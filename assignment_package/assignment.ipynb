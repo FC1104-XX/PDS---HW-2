{
 "cells": [
  {
   "cell_type": "markdown",
   "id": "c448d013",
   "metadata": {},
   "source": [
    "# Welcome to Homework II"
   ]
  },
  {
   "cell_type": "markdown",
   "id": "ed9c466d",
   "metadata": {},
   "source": [
    "### Please read the instructions in both the instructions.pdf (on Moodle) and in this notebook very carefully!\n",
    "\n",
    "**The following instructions are binding**:\n",
    "\n",
    "* Other than ```pandas```, no further other library imports are allowed. Both third-party imports and builtin modules are not allowed.\n",
    "* Do not delete any of the ````%%writefile```` or ```%run``` statements.\n",
    "* The cells containing the function definitions and the ```%%writefile``` magic should not have any other code than the function definition and the pre-defined statements including ```%writefile``` and ```import pandas as pd```/```from typing import ...```.  Make sure that the cell defining the function is cleared of other code after implementing the function code.\n",
    "* Replace the `pass` placeholder with your own code.\n",
    "* Do **not** change any function names.\n",
    "* Do **not** modify or remove any existing line of code within each function, except that you may remove the `pass` placeholder.\n",
    "* Ensure each function receives the required input and returns the required output.\n",
    "* Answer the questions in order and and comment your code."
   ]
  },
  {
   "cell_type": "markdown",
   "id": "3451f0c5",
   "metadata": {},
   "source": [
    "## Student Number #1: ________"
   ]
  },
  {
   "cell_type": "markdown",
   "id": "aebbb512",
   "metadata": {},
   "source": [
    "## Student Number #2: ________"
   ]
  },
  {
   "cell_type": "markdown",
   "id": "80b94865",
   "metadata": {},
   "source": [
    "## Library import"
   ]
  },
  {
   "cell_type": "code",
   "execution_count": 50,
   "id": "723907a3",
   "metadata": {},
   "outputs": [],
   "source": [
    "import pandas as pd"
   ]
  },
  {
   "cell_type": "markdown",
   "id": "1abd793f",
   "metadata": {},
   "source": [
    "# Part I"
   ]
  },
  {
   "cell_type": "markdown",
   "id": "5164da8a",
   "metadata": {},
   "source": [
    "#### 1) Create the **`load_retail_data(filepath: str)`** function which loads the Online Retail file (onlineretail.csv) into a pandas DataFrame and returns it. Call this function and save the result into a DataFrame called **`df`**:"
   ]
  },
  {
   "cell_type": "code",
   "execution_count": 51,
   "id": "19b8052f",
   "metadata": {},
   "outputs": [
    {
     "name": "stdout",
     "output_type": "stream",
     "text": [
      "Overwriting load_retail_data.py\n"
     ]
    }
   ],
   "source": [
    "%%writefile load_retail_data.py\n",
    "import pandas as pd\n",
    "\n",
    "def load_retail_data(filepath: str) -> pd.DataFrame:\n",
    "    \"\"\"Returns the onlineretail dataframe if the provided directory path to the csv is valid, otherwise it raises an error.\n",
    "    - If using global Windows paths, prefix string with 'r'\"\"\"\n",
    "    try:\n",
    "        safepath = filepath.strip().replace(\"\\\\\", \"/\") # to handle different types of filepaths and backspaces at the ends\n",
    "        return pd.read_csv(safepath, encoding=\"latin-1\")\n",
    "    except Exception as error_class:\n",
    "        print(load_retail_data.__doc__) #to also get the Windows path warning with the error\n",
    "        raise ValueError(\"Invalid input\") from error_class\n",
    "        "
   ]
  },
  {
   "cell_type": "code",
   "execution_count": 52,
   "id": "d5adcbfa",
   "metadata": {},
   "outputs": [
    {
     "data": {
      "text/html": [
       "<div>\n",
       "<style scoped>\n",
       "    .dataframe tbody tr th:only-of-type {\n",
       "        vertical-align: middle;\n",
       "    }\n",
       "\n",
       "    .dataframe tbody tr th {\n",
       "        vertical-align: top;\n",
       "    }\n",
       "\n",
       "    .dataframe thead th {\n",
       "        text-align: right;\n",
       "    }\n",
       "</style>\n",
       "<table border=\"1\" class=\"dataframe\">\n",
       "  <thead>\n",
       "    <tr style=\"text-align: right;\">\n",
       "      <th></th>\n",
       "      <th>InvoiceNo</th>\n",
       "      <th>StockCode</th>\n",
       "      <th>Description</th>\n",
       "      <th>Quantity</th>\n",
       "      <th>InvoiceDate</th>\n",
       "      <th>UnitPrice</th>\n",
       "      <th>CustomerID</th>\n",
       "      <th>Country</th>\n",
       "    </tr>\n",
       "  </thead>\n",
       "  <tbody>\n",
       "    <tr>\n",
       "      <th>0</th>\n",
       "      <td>536365</td>\n",
       "      <td>85123A</td>\n",
       "      <td>WHITE HANGING HEART T-LIGHT HOLDER</td>\n",
       "      <td>6</td>\n",
       "      <td>12/1/2010 8:26</td>\n",
       "      <td>2.55</td>\n",
       "      <td>17850.0</td>\n",
       "      <td>United Kingdom</td>\n",
       "    </tr>\n",
       "    <tr>\n",
       "      <th>1</th>\n",
       "      <td>536365</td>\n",
       "      <td>71053</td>\n",
       "      <td>WHITE METAL LANTERN</td>\n",
       "      <td>6</td>\n",
       "      <td>12/1/2010 8:26</td>\n",
       "      <td>3.39</td>\n",
       "      <td>17850.0</td>\n",
       "      <td>United Kingdom</td>\n",
       "    </tr>\n",
       "    <tr>\n",
       "      <th>2</th>\n",
       "      <td>536365</td>\n",
       "      <td>84406B</td>\n",
       "      <td>CREAM CUPID HEARTS COAT HANGER</td>\n",
       "      <td>8</td>\n",
       "      <td>12/1/2010 8:26</td>\n",
       "      <td>2.75</td>\n",
       "      <td>17850.0</td>\n",
       "      <td>United Kingdom</td>\n",
       "    </tr>\n",
       "    <tr>\n",
       "      <th>3</th>\n",
       "      <td>536365</td>\n",
       "      <td>84029G</td>\n",
       "      <td>KNITTED UNION FLAG HOT WATER BOTTLE</td>\n",
       "      <td>6</td>\n",
       "      <td>12/1/2010 8:26</td>\n",
       "      <td>3.39</td>\n",
       "      <td>17850.0</td>\n",
       "      <td>United Kingdom</td>\n",
       "    </tr>\n",
       "    <tr>\n",
       "      <th>4</th>\n",
       "      <td>536365</td>\n",
       "      <td>84029E</td>\n",
       "      <td>RED WOOLLY HOTTIE WHITE HEART.</td>\n",
       "      <td>6</td>\n",
       "      <td>12/1/2010 8:26</td>\n",
       "      <td>3.39</td>\n",
       "      <td>17850.0</td>\n",
       "      <td>United Kingdom</td>\n",
       "    </tr>\n",
       "  </tbody>\n",
       "</table>\n",
       "</div>"
      ],
      "text/plain": [
       "  InvoiceNo StockCode                          Description  Quantity  \\\n",
       "0    536365    85123A   WHITE HANGING HEART T-LIGHT HOLDER         6   \n",
       "1    536365     71053                  WHITE METAL LANTERN         6   \n",
       "2    536365    84406B       CREAM CUPID HEARTS COAT HANGER         8   \n",
       "3    536365    84029G  KNITTED UNION FLAG HOT WATER BOTTLE         6   \n",
       "4    536365    84029E       RED WOOLLY HOTTIE WHITE HEART.         6   \n",
       "\n",
       "      InvoiceDate  UnitPrice  CustomerID         Country  \n",
       "0  12/1/2010 8:26       2.55     17850.0  United Kingdom  \n",
       "1  12/1/2010 8:26       3.39     17850.0  United Kingdom  \n",
       "2  12/1/2010 8:26       2.75     17850.0  United Kingdom  \n",
       "3  12/1/2010 8:26       3.39     17850.0  United Kingdom  \n",
       "4  12/1/2010 8:26       3.39     17850.0  United Kingdom  "
      ]
     },
     "execution_count": 52,
     "metadata": {},
     "output_type": "execute_result"
    }
   ],
   "source": [
    "%run load_retail_data.py\n",
    "\n",
    "# Use the loading function with the file path. Replace '...' with the path to 'onlineretail.csv'\n",
    "df = load_retail_data(\"teste\\onlineretail.csv\")\n",
    "\n",
    "df.head()"
   ]
  },
  {
   "cell_type": "markdown",
   "id": "eab2032a",
   "metadata": {},
   "source": [
    "#### 2) Create the **`missing_values_cleaner`** function, which takes a Pandas DataFrame as input and **returns the same DataFrame after removing all rows that contain null values in the** **`CustomerID`** **or** **`Description`** **columns.** Ensure that only nulls in these two columns are dropped, without affecting rows that have null values in other columns.\n"
   ]
  },
  {
   "cell_type": "code",
   "execution_count": 53,
   "id": "4e76bff4",
   "metadata": {},
   "outputs": [
    {
     "name": "stdout",
     "output_type": "stream",
     "text": [
      "Overwriting missing_values_cleaner.py\n"
     ]
    }
   ],
   "source": [
    "%%writefile missing_values_cleaner.py\n",
    "import pandas as pd\n",
    "\n",
    "def missing_values_cleaner(df) -> pd.DataFrame:\n",
    "    \"\"\"Returns the input dataframe with all rows corresponding to a null 'CustomerID' or 'Description' value removed.\"\"\"\n",
    "    df = df.copy()\n",
    "    \n",
    "    mask = ~(df[\"CustomerID\"].isna() | df[\"Description\"].isna()) #creates True or False mask for our condition\n",
    "    df = df[mask] #keeps only True, thats why we use the NOT operator previously\n",
    "\n",
    "    return df\n",
    "    "
   ]
  },
  {
   "cell_type": "markdown",
   "id": "fb67235d",
   "metadata": {},
   "source": [
    "#### Call your `missing_values_cleaner` function on the original `df` below to view the results:"
   ]
  },
  {
   "cell_type": "code",
   "execution_count": 54,
   "id": "cd5acfe6",
   "metadata": {},
   "outputs": [
    {
     "data": {
      "text/html": [
       "<div>\n",
       "<style scoped>\n",
       "    .dataframe tbody tr th:only-of-type {\n",
       "        vertical-align: middle;\n",
       "    }\n",
       "\n",
       "    .dataframe tbody tr th {\n",
       "        vertical-align: top;\n",
       "    }\n",
       "\n",
       "    .dataframe thead th {\n",
       "        text-align: right;\n",
       "    }\n",
       "</style>\n",
       "<table border=\"1\" class=\"dataframe\">\n",
       "  <thead>\n",
       "    <tr style=\"text-align: right;\">\n",
       "      <th></th>\n",
       "      <th>InvoiceNo</th>\n",
       "      <th>StockCode</th>\n",
       "      <th>Description</th>\n",
       "      <th>Quantity</th>\n",
       "      <th>InvoiceDate</th>\n",
       "      <th>UnitPrice</th>\n",
       "      <th>CustomerID</th>\n",
       "      <th>Country</th>\n",
       "    </tr>\n",
       "  </thead>\n",
       "  <tbody>\n",
       "    <tr>\n",
       "      <th>0</th>\n",
       "      <td>536365</td>\n",
       "      <td>85123A</td>\n",
       "      <td>WHITE HANGING HEART T-LIGHT HOLDER</td>\n",
       "      <td>6</td>\n",
       "      <td>12/1/2010 8:26</td>\n",
       "      <td>2.55</td>\n",
       "      <td>17850.0</td>\n",
       "      <td>United Kingdom</td>\n",
       "    </tr>\n",
       "    <tr>\n",
       "      <th>1</th>\n",
       "      <td>536365</td>\n",
       "      <td>71053</td>\n",
       "      <td>WHITE METAL LANTERN</td>\n",
       "      <td>6</td>\n",
       "      <td>12/1/2010 8:26</td>\n",
       "      <td>3.39</td>\n",
       "      <td>17850.0</td>\n",
       "      <td>United Kingdom</td>\n",
       "    </tr>\n",
       "    <tr>\n",
       "      <th>2</th>\n",
       "      <td>536365</td>\n",
       "      <td>84406B</td>\n",
       "      <td>CREAM CUPID HEARTS COAT HANGER</td>\n",
       "      <td>8</td>\n",
       "      <td>12/1/2010 8:26</td>\n",
       "      <td>2.75</td>\n",
       "      <td>17850.0</td>\n",
       "      <td>United Kingdom</td>\n",
       "    </tr>\n",
       "    <tr>\n",
       "      <th>3</th>\n",
       "      <td>536365</td>\n",
       "      <td>84029G</td>\n",
       "      <td>KNITTED UNION FLAG HOT WATER BOTTLE</td>\n",
       "      <td>6</td>\n",
       "      <td>12/1/2010 8:26</td>\n",
       "      <td>3.39</td>\n",
       "      <td>17850.0</td>\n",
       "      <td>United Kingdom</td>\n",
       "    </tr>\n",
       "    <tr>\n",
       "      <th>4</th>\n",
       "      <td>536365</td>\n",
       "      <td>84029E</td>\n",
       "      <td>RED WOOLLY HOTTIE WHITE HEART.</td>\n",
       "      <td>6</td>\n",
       "      <td>12/1/2010 8:26</td>\n",
       "      <td>3.39</td>\n",
       "      <td>17850.0</td>\n",
       "      <td>United Kingdom</td>\n",
       "    </tr>\n",
       "  </tbody>\n",
       "</table>\n",
       "</div>"
      ],
      "text/plain": [
       "  InvoiceNo StockCode                          Description  Quantity  \\\n",
       "0    536365    85123A   WHITE HANGING HEART T-LIGHT HOLDER         6   \n",
       "1    536365     71053                  WHITE METAL LANTERN         6   \n",
       "2    536365    84406B       CREAM CUPID HEARTS COAT HANGER         8   \n",
       "3    536365    84029G  KNITTED UNION FLAG HOT WATER BOTTLE         6   \n",
       "4    536365    84029E       RED WOOLLY HOTTIE WHITE HEART.         6   \n",
       "\n",
       "      InvoiceDate  UnitPrice  CustomerID         Country  \n",
       "0  12/1/2010 8:26       2.55     17850.0  United Kingdom  \n",
       "1  12/1/2010 8:26       3.39     17850.0  United Kingdom  \n",
       "2  12/1/2010 8:26       2.75     17850.0  United Kingdom  \n",
       "3  12/1/2010 8:26       3.39     17850.0  United Kingdom  \n",
       "4  12/1/2010 8:26       3.39     17850.0  United Kingdom  "
      ]
     },
     "execution_count": 54,
     "metadata": {},
     "output_type": "execute_result"
    }
   ],
   "source": [
    "%run missing_values_cleaner.py\n",
    "# Here the correct arguments should be added\n",
    "\n",
    "missing_values_cleaner(df).head()"
   ]
  },
  {
   "cell_type": "markdown",
   "id": "ed2e73cb",
   "metadata": {},
   "source": [
    "#### 3) Create the **`quantity_handler`** function, which takes a Pandas DataFrame as input and **returns the same DataFrame after removing all rows that contain negative or 0 values in the** **`Quantity`** **column.**\n"
   ]
  },
  {
   "cell_type": "code",
   "execution_count": 55,
   "id": "75a04a38",
   "metadata": {},
   "outputs": [
    {
     "name": "stdout",
     "output_type": "stream",
     "text": [
      "Overwriting quantity_handler.py\n"
     ]
    }
   ],
   "source": [
    "%%writefile quantity_handler.py\n",
    "import pandas as pd\n",
    "\n",
    "def quantity_handler(df) -> pd.DataFrame:\n",
    "    \"\"\"Returns the input dataframe stripped of rows with negative or null values in the 'Quantity' column.\"\"\"\n",
    "    df = df.copy()\n",
    "    \n",
    "    df=df[df[\"Quantity\"] > 0]\n",
    "    return df"
   ]
  },
  {
   "cell_type": "markdown",
   "id": "86278ffc",
   "metadata": {},
   "source": [
    "#### Call your `quantity_handler` function on the original `df` below to view the results:\n"
   ]
  },
  {
   "cell_type": "code",
   "execution_count": 56,
   "id": "be221de0",
   "metadata": {},
   "outputs": [
    {
     "data": {
      "text/plain": [
       "(531285, 8)"
      ]
     },
     "execution_count": 56,
     "metadata": {},
     "output_type": "execute_result"
    }
   ],
   "source": [
    "%run quantity_handler.py\n",
    "# Here the correct arguments should be added\n",
    "quantity_handler(df).shape"
   ]
  },
  {
   "cell_type": "markdown",
   "id": "d27a605a",
   "metadata": {},
   "source": [
    "#### 4) Create the **`amount_spent_computer`** function, which takes a Pandas DataFrame as input and **returns the same DataFrame with an added column named** **`amount_spent`**. This column should represent the product of **`Quantity`** and **`UnitPrice`**.\n"
   ]
  },
  {
   "cell_type": "code",
   "execution_count": 57,
   "id": "dd07698b",
   "metadata": {},
   "outputs": [
    {
     "name": "stdout",
     "output_type": "stream",
     "text": [
      "Overwriting amount_spent_computer.py\n"
     ]
    }
   ],
   "source": [
    "%%writefile amount_spent_computer.py\n",
    "import pandas as pd\n",
    "\n",
    "def amount_spent_computer(df) -> pd.DataFrame:\n",
    "    \"\"\"Return the input dataframe with a new column 'amount_spent' by multiplying the 'Quantity' and 'UnitPrice' columns\"\"\"\n",
    "    df = df.copy()\n",
    "    \n",
    "    df[\"amount_spent\"] = df[\"Quantity\"] * df[\"UnitPrice\"]\n",
    "    return df"
   ]
  },
  {
   "cell_type": "markdown",
   "id": "6b30a629",
   "metadata": {},
   "source": [
    "#### Call your `amount_spent_computer` function on the original `df` below to view the results:\n"
   ]
  },
  {
   "cell_type": "code",
   "execution_count": 58,
   "id": "867711ba",
   "metadata": {},
   "outputs": [
    {
     "data": {
      "text/html": [
       "<div>\n",
       "<style scoped>\n",
       "    .dataframe tbody tr th:only-of-type {\n",
       "        vertical-align: middle;\n",
       "    }\n",
       "\n",
       "    .dataframe tbody tr th {\n",
       "        vertical-align: top;\n",
       "    }\n",
       "\n",
       "    .dataframe thead th {\n",
       "        text-align: right;\n",
       "    }\n",
       "</style>\n",
       "<table border=\"1\" class=\"dataframe\">\n",
       "  <thead>\n",
       "    <tr style=\"text-align: right;\">\n",
       "      <th></th>\n",
       "      <th>InvoiceNo</th>\n",
       "      <th>StockCode</th>\n",
       "      <th>Description</th>\n",
       "      <th>Quantity</th>\n",
       "      <th>InvoiceDate</th>\n",
       "      <th>UnitPrice</th>\n",
       "      <th>CustomerID</th>\n",
       "      <th>Country</th>\n",
       "      <th>amount_spent</th>\n",
       "    </tr>\n",
       "  </thead>\n",
       "  <tbody>\n",
       "    <tr>\n",
       "      <th>0</th>\n",
       "      <td>536365</td>\n",
       "      <td>85123A</td>\n",
       "      <td>WHITE HANGING HEART T-LIGHT HOLDER</td>\n",
       "      <td>6</td>\n",
       "      <td>12/1/2010 8:26</td>\n",
       "      <td>2.55</td>\n",
       "      <td>17850.0</td>\n",
       "      <td>United Kingdom</td>\n",
       "      <td>15.30</td>\n",
       "    </tr>\n",
       "    <tr>\n",
       "      <th>1</th>\n",
       "      <td>536365</td>\n",
       "      <td>71053</td>\n",
       "      <td>WHITE METAL LANTERN</td>\n",
       "      <td>6</td>\n",
       "      <td>12/1/2010 8:26</td>\n",
       "      <td>3.39</td>\n",
       "      <td>17850.0</td>\n",
       "      <td>United Kingdom</td>\n",
       "      <td>20.34</td>\n",
       "    </tr>\n",
       "    <tr>\n",
       "      <th>2</th>\n",
       "      <td>536365</td>\n",
       "      <td>84406B</td>\n",
       "      <td>CREAM CUPID HEARTS COAT HANGER</td>\n",
       "      <td>8</td>\n",
       "      <td>12/1/2010 8:26</td>\n",
       "      <td>2.75</td>\n",
       "      <td>17850.0</td>\n",
       "      <td>United Kingdom</td>\n",
       "      <td>22.00</td>\n",
       "    </tr>\n",
       "    <tr>\n",
       "      <th>3</th>\n",
       "      <td>536365</td>\n",
       "      <td>84029G</td>\n",
       "      <td>KNITTED UNION FLAG HOT WATER BOTTLE</td>\n",
       "      <td>6</td>\n",
       "      <td>12/1/2010 8:26</td>\n",
       "      <td>3.39</td>\n",
       "      <td>17850.0</td>\n",
       "      <td>United Kingdom</td>\n",
       "      <td>20.34</td>\n",
       "    </tr>\n",
       "    <tr>\n",
       "      <th>4</th>\n",
       "      <td>536365</td>\n",
       "      <td>84029E</td>\n",
       "      <td>RED WOOLLY HOTTIE WHITE HEART.</td>\n",
       "      <td>6</td>\n",
       "      <td>12/1/2010 8:26</td>\n",
       "      <td>3.39</td>\n",
       "      <td>17850.0</td>\n",
       "      <td>United Kingdom</td>\n",
       "      <td>20.34</td>\n",
       "    </tr>\n",
       "  </tbody>\n",
       "</table>\n",
       "</div>"
      ],
      "text/plain": [
       "  InvoiceNo StockCode                          Description  Quantity  \\\n",
       "0    536365    85123A   WHITE HANGING HEART T-LIGHT HOLDER         6   \n",
       "1    536365     71053                  WHITE METAL LANTERN         6   \n",
       "2    536365    84406B       CREAM CUPID HEARTS COAT HANGER         8   \n",
       "3    536365    84029G  KNITTED UNION FLAG HOT WATER BOTTLE         6   \n",
       "4    536365    84029E       RED WOOLLY HOTTIE WHITE HEART.         6   \n",
       "\n",
       "      InvoiceDate  UnitPrice  CustomerID         Country  amount_spent  \n",
       "0  12/1/2010 8:26       2.55     17850.0  United Kingdom         15.30  \n",
       "1  12/1/2010 8:26       3.39     17850.0  United Kingdom         20.34  \n",
       "2  12/1/2010 8:26       2.75     17850.0  United Kingdom         22.00  \n",
       "3  12/1/2010 8:26       3.39     17850.0  United Kingdom         20.34  \n",
       "4  12/1/2010 8:26       3.39     17850.0  United Kingdom         20.34  "
      ]
     },
     "execution_count": 58,
     "metadata": {},
     "output_type": "execute_result"
    }
   ],
   "source": [
    "%run amount_spent_computer.py\n",
    "\n",
    "# Here the correct arguments should be added\n",
    "amount_spent_computer(df).head()"
   ]
  },
  {
   "cell_type": "markdown",
   "id": "5ec758ee",
   "metadata": {},
   "source": [
    "#### 5) Create the **`date_handler`** function, which takes a Pandas DataFrame as input and **returns the same DataFrame without any invoices from the year 2011.**\n"
   ]
  },
  {
   "cell_type": "code",
   "execution_count": 59,
   "id": "ea261964",
   "metadata": {},
   "outputs": [
    {
     "name": "stdout",
     "output_type": "stream",
     "text": [
      "Overwriting date_handler.py\n"
     ]
    }
   ],
   "source": [
    "%%writefile date_handler.py\n",
    "import pandas as pd\n",
    "\n",
    "def date_handler(df) -> pd.DataFrame:\n",
    "    \"\"\"Returns the input dataframe without any invoices from the year 2011.\"\"\"\n",
    "    df=df.copy()\n",
    "    \n",
    "    df[\"InvoiceDate\"] = pd.to_datetime(df[\"InvoiceDate\"], errors=\"coerce\")\n",
    "\n",
    "    invalid = df[df[\"InvoiceDate\"].isna()] #check if any date rows couldn't be parsed and were converted to NaT\n",
    "    if len(invalid) != 0:\n",
    "        print(\"Some rows could not be converted to datetime:\")\n",
    "        print(invalid)\n",
    "    \n",
    "    df = df[df[\"InvoiceDate\"].dt.year != 2011]\n",
    "    return df"
   ]
  },
  {
   "cell_type": "markdown",
   "id": "571ab24f",
   "metadata": {},
   "source": [
    "#### Call your `date_handler` function on the original `df` below to view the results:\n"
   ]
  },
  {
   "cell_type": "code",
   "execution_count": 60,
   "id": "f0b3c7e5",
   "metadata": {},
   "outputs": [
    {
     "data": {
      "text/html": [
       "<div>\n",
       "<style scoped>\n",
       "    .dataframe tbody tr th:only-of-type {\n",
       "        vertical-align: middle;\n",
       "    }\n",
       "\n",
       "    .dataframe tbody tr th {\n",
       "        vertical-align: top;\n",
       "    }\n",
       "\n",
       "    .dataframe thead th {\n",
       "        text-align: right;\n",
       "    }\n",
       "</style>\n",
       "<table border=\"1\" class=\"dataframe\">\n",
       "  <thead>\n",
       "    <tr style=\"text-align: right;\">\n",
       "      <th></th>\n",
       "      <th>InvoiceNo</th>\n",
       "      <th>StockCode</th>\n",
       "      <th>Description</th>\n",
       "      <th>Quantity</th>\n",
       "      <th>InvoiceDate</th>\n",
       "      <th>UnitPrice</th>\n",
       "      <th>CustomerID</th>\n",
       "      <th>Country</th>\n",
       "    </tr>\n",
       "  </thead>\n",
       "  <tbody>\n",
       "    <tr>\n",
       "      <th>0</th>\n",
       "      <td>536365</td>\n",
       "      <td>85123A</td>\n",
       "      <td>WHITE HANGING HEART T-LIGHT HOLDER</td>\n",
       "      <td>6</td>\n",
       "      <td>2010-12-01 08:26:00</td>\n",
       "      <td>2.55</td>\n",
       "      <td>17850.0</td>\n",
       "      <td>United Kingdom</td>\n",
       "    </tr>\n",
       "    <tr>\n",
       "      <th>1</th>\n",
       "      <td>536365</td>\n",
       "      <td>71053</td>\n",
       "      <td>WHITE METAL LANTERN</td>\n",
       "      <td>6</td>\n",
       "      <td>2010-12-01 08:26:00</td>\n",
       "      <td>3.39</td>\n",
       "      <td>17850.0</td>\n",
       "      <td>United Kingdom</td>\n",
       "    </tr>\n",
       "    <tr>\n",
       "      <th>2</th>\n",
       "      <td>536365</td>\n",
       "      <td>84406B</td>\n",
       "      <td>CREAM CUPID HEARTS COAT HANGER</td>\n",
       "      <td>8</td>\n",
       "      <td>2010-12-01 08:26:00</td>\n",
       "      <td>2.75</td>\n",
       "      <td>17850.0</td>\n",
       "      <td>United Kingdom</td>\n",
       "    </tr>\n",
       "    <tr>\n",
       "      <th>3</th>\n",
       "      <td>536365</td>\n",
       "      <td>84029G</td>\n",
       "      <td>KNITTED UNION FLAG HOT WATER BOTTLE</td>\n",
       "      <td>6</td>\n",
       "      <td>2010-12-01 08:26:00</td>\n",
       "      <td>3.39</td>\n",
       "      <td>17850.0</td>\n",
       "      <td>United Kingdom</td>\n",
       "    </tr>\n",
       "    <tr>\n",
       "      <th>4</th>\n",
       "      <td>536365</td>\n",
       "      <td>84029E</td>\n",
       "      <td>RED WOOLLY HOTTIE WHITE HEART.</td>\n",
       "      <td>6</td>\n",
       "      <td>2010-12-01 08:26:00</td>\n",
       "      <td>3.39</td>\n",
       "      <td>17850.0</td>\n",
       "      <td>United Kingdom</td>\n",
       "    </tr>\n",
       "  </tbody>\n",
       "</table>\n",
       "</div>"
      ],
      "text/plain": [
       "  InvoiceNo StockCode                          Description  Quantity  \\\n",
       "0    536365    85123A   WHITE HANGING HEART T-LIGHT HOLDER         6   \n",
       "1    536365     71053                  WHITE METAL LANTERN         6   \n",
       "2    536365    84406B       CREAM CUPID HEARTS COAT HANGER         8   \n",
       "3    536365    84029G  KNITTED UNION FLAG HOT WATER BOTTLE         6   \n",
       "4    536365    84029E       RED WOOLLY HOTTIE WHITE HEART.         6   \n",
       "\n",
       "          InvoiceDate  UnitPrice  CustomerID         Country  \n",
       "0 2010-12-01 08:26:00       2.55     17850.0  United Kingdom  \n",
       "1 2010-12-01 08:26:00       3.39     17850.0  United Kingdom  \n",
       "2 2010-12-01 08:26:00       2.75     17850.0  United Kingdom  \n",
       "3 2010-12-01 08:26:00       3.39     17850.0  United Kingdom  \n",
       "4 2010-12-01 08:26:00       3.39     17850.0  United Kingdom  "
      ]
     },
     "execution_count": 60,
     "metadata": {},
     "output_type": "execute_result"
    }
   ],
   "source": [
    "%run date_handler.py\n",
    "# Here the correct arguments should be added\n",
    "date_handler(df).head()"
   ]
  },
  {
   "cell_type": "markdown",
   "id": "5b944cbc",
   "metadata": {},
   "source": [
    "#### 6) Create the **`data_cleaner`** function, which takes a Pandas DataFrame as input and **returns the same DataFrame after cleaning.** The cleaning process must follow the instructions provided inside the function.\n"
   ]
  },
  {
   "cell_type": "code",
   "execution_count": 61,
   "id": "710136e7",
   "metadata": {},
   "outputs": [
    {
     "name": "stdout",
     "output_type": "stream",
     "text": [
      "Overwriting data_cleaner.py\n"
     ]
    }
   ],
   "source": [
    "%%writefile data_cleaner.py\n",
    "import pandas as pd\n",
    "from missing_values_cleaner import missing_values_cleaner\n",
    "from quantity_handler import quantity_handler\n",
    "from amount_spent_computer import amount_spent_computer\n",
    "from date_handler import date_handler\n",
    "\n",
    "def data_cleaner(df) -> pd.DataFrame:\n",
    "    \n",
    "    \"\"\"\n",
    "    \n",
    "    This function receives a Pandas DataFrame as input.\n",
    "\n",
    "    First, pass the input DataFrame `df` to the `missing_values_cleaner`\n",
    "    function, and store its output in a new variable called `clean`.\n",
    "    Then, pass `clean` to the `quantity_handler` function and store its\n",
    "    output (you may reuse the variable name `clean`).\n",
    "\n",
    "    Next, pass the resulting DataFrame to the `amount_spent_computer`\n",
    "    function, and then to the `date_handler` function. Finally, return\n",
    "    the fully cleaned DataFrame.\n",
    "    \n",
    "    \"\"\"\n",
    "    df=df.copy()\n",
    "\n",
    "    clean = missing_values_cleaner(df)\n",
    "    no_negative_quantities = quantity_handler(clean)\n",
    "    df_amount_spent = amount_spent_computer(no_negative_quantities)\n",
    "    no_2011 = date_handler(df_amount_spent)\n",
    "\n",
    "    return no_2011"
   ]
  },
  {
   "cell_type": "markdown",
   "id": "1eca1410",
   "metadata": {},
   "source": [
    "#### Now, before we proceed. We will clean our data using your **`data_cleaner`** function.\n"
   ]
  },
  {
   "cell_type": "code",
   "execution_count": 62,
   "id": "2431fb43",
   "metadata": {},
   "outputs": [
    {
     "data": {
      "text/html": [
       "<div>\n",
       "<style scoped>\n",
       "    .dataframe tbody tr th:only-of-type {\n",
       "        vertical-align: middle;\n",
       "    }\n",
       "\n",
       "    .dataframe tbody tr th {\n",
       "        vertical-align: top;\n",
       "    }\n",
       "\n",
       "    .dataframe thead th {\n",
       "        text-align: right;\n",
       "    }\n",
       "</style>\n",
       "<table border=\"1\" class=\"dataframe\">\n",
       "  <thead>\n",
       "    <tr style=\"text-align: right;\">\n",
       "      <th></th>\n",
       "      <th>InvoiceNo</th>\n",
       "      <th>StockCode</th>\n",
       "      <th>Description</th>\n",
       "      <th>Quantity</th>\n",
       "      <th>InvoiceDate</th>\n",
       "      <th>UnitPrice</th>\n",
       "      <th>CustomerID</th>\n",
       "      <th>Country</th>\n",
       "      <th>amount_spent</th>\n",
       "    </tr>\n",
       "  </thead>\n",
       "  <tbody>\n",
       "    <tr>\n",
       "      <th>0</th>\n",
       "      <td>536365</td>\n",
       "      <td>85123A</td>\n",
       "      <td>WHITE HANGING HEART T-LIGHT HOLDER</td>\n",
       "      <td>6</td>\n",
       "      <td>2010-12-01 08:26:00</td>\n",
       "      <td>2.55</td>\n",
       "      <td>17850.0</td>\n",
       "      <td>United Kingdom</td>\n",
       "      <td>15.30</td>\n",
       "    </tr>\n",
       "    <tr>\n",
       "      <th>1</th>\n",
       "      <td>536365</td>\n",
       "      <td>71053</td>\n",
       "      <td>WHITE METAL LANTERN</td>\n",
       "      <td>6</td>\n",
       "      <td>2010-12-01 08:26:00</td>\n",
       "      <td>3.39</td>\n",
       "      <td>17850.0</td>\n",
       "      <td>United Kingdom</td>\n",
       "      <td>20.34</td>\n",
       "    </tr>\n",
       "    <tr>\n",
       "      <th>2</th>\n",
       "      <td>536365</td>\n",
       "      <td>84406B</td>\n",
       "      <td>CREAM CUPID HEARTS COAT HANGER</td>\n",
       "      <td>8</td>\n",
       "      <td>2010-12-01 08:26:00</td>\n",
       "      <td>2.75</td>\n",
       "      <td>17850.0</td>\n",
       "      <td>United Kingdom</td>\n",
       "      <td>22.00</td>\n",
       "    </tr>\n",
       "    <tr>\n",
       "      <th>3</th>\n",
       "      <td>536365</td>\n",
       "      <td>84029G</td>\n",
       "      <td>KNITTED UNION FLAG HOT WATER BOTTLE</td>\n",
       "      <td>6</td>\n",
       "      <td>2010-12-01 08:26:00</td>\n",
       "      <td>3.39</td>\n",
       "      <td>17850.0</td>\n",
       "      <td>United Kingdom</td>\n",
       "      <td>20.34</td>\n",
       "    </tr>\n",
       "    <tr>\n",
       "      <th>4</th>\n",
       "      <td>536365</td>\n",
       "      <td>84029E</td>\n",
       "      <td>RED WOOLLY HOTTIE WHITE HEART.</td>\n",
       "      <td>6</td>\n",
       "      <td>2010-12-01 08:26:00</td>\n",
       "      <td>3.39</td>\n",
       "      <td>17850.0</td>\n",
       "      <td>United Kingdom</td>\n",
       "      <td>20.34</td>\n",
       "    </tr>\n",
       "  </tbody>\n",
       "</table>\n",
       "</div>"
      ],
      "text/plain": [
       "  InvoiceNo StockCode                          Description  Quantity  \\\n",
       "0    536365    85123A   WHITE HANGING HEART T-LIGHT HOLDER         6   \n",
       "1    536365     71053                  WHITE METAL LANTERN         6   \n",
       "2    536365    84406B       CREAM CUPID HEARTS COAT HANGER         8   \n",
       "3    536365    84029G  KNITTED UNION FLAG HOT WATER BOTTLE         6   \n",
       "4    536365    84029E       RED WOOLLY HOTTIE WHITE HEART.         6   \n",
       "\n",
       "          InvoiceDate  UnitPrice  CustomerID         Country  amount_spent  \n",
       "0 2010-12-01 08:26:00       2.55     17850.0  United Kingdom         15.30  \n",
       "1 2010-12-01 08:26:00       3.39     17850.0  United Kingdom         20.34  \n",
       "2 2010-12-01 08:26:00       2.75     17850.0  United Kingdom         22.00  \n",
       "3 2010-12-01 08:26:00       3.39     17850.0  United Kingdom         20.34  \n",
       "4 2010-12-01 08:26:00       3.39     17850.0  United Kingdom         20.34  "
      ]
     },
     "execution_count": 62,
     "metadata": {},
     "output_type": "execute_result"
    }
   ],
   "source": [
    "%run data_cleaner.py\n",
    "# Here the correct arguments should be added\n",
    "df = data_cleaner(df)\n",
    "\n",
    "df.head()"
   ]
  },
  {
   "cell_type": "markdown",
   "id": "cf048f9e",
   "metadata": {},
   "source": [
    "#### 7) Create the **`top_five_cust`** function, which takes a Pandas DataFrame as input and **returns a list of** **`CustomerID`s** **corresponding to the five customers who have placed the highest number of orders.** Note that the same invoice number (`InvoiceNo`) represents a single order, even if it appears across multiple rows! Be careful with these repetitions ;)\n"
   ]
  },
  {
   "cell_type": "code",
   "execution_count": 63,
   "id": "1781347d",
   "metadata": {},
   "outputs": [
    {
     "name": "stdout",
     "output_type": "stream",
     "text": [
      "Overwriting top_five_cust.py\n"
     ]
    }
   ],
   "source": [
    "%%writefile top_five_cust.py\n",
    "import pandas as pd\n",
    "\n",
    "def top_five_cust(df) -> list:\n",
    "  \"\"\"Returns the top 4 customer who have placed the highest number of orders from the input dataframe.\"\"\"\n",
    "    \n",
    "  df = df.copy()\n",
    "\n",
    "  grouped = (\n",
    "    df.groupby(\"InvoiceNo\", as_index=False)\n",
    "      .agg({\n",
    "          \"CustomerID\": \"first\",\n",
    "          \"InvoiceDate\": \"first\",\n",
    "          \"Description\": lambda x: list(x),\n",
    "          \"Country\": \"first\",\n",
    "          \"Quantity\": \"sum\",\n",
    "          \"amount_spent\": \"sum\"\n",
    "      })\n",
    "    )\n",
    "\n",
    "  orders_per_customer = grouped[\"CustomerID\"].value_counts() #value_counts autmoatically counts and SORTS in descending order so we can just grab the head\n",
    "\n",
    "  return_list = [customer for customer in orders_per_customer.head(5).index]\n",
    "\n",
    "  return return_list\n",
    "\n",
    "    "
   ]
  },
  {
   "cell_type": "markdown",
   "id": "e2c3120e",
   "metadata": {},
   "source": [
    "#### Call your `top_five_cust` function on the now cleaned `df` below to view the results:\n"
   ]
  },
  {
   "cell_type": "code",
   "execution_count": 64,
   "id": "da9f3679",
   "metadata": {},
   "outputs": [
    {
     "data": {
      "text/plain": [
       "[12748.0, 17850.0, 14911.0, 15061.0, 13777.0]"
      ]
     },
     "execution_count": 64,
     "metadata": {},
     "output_type": "execute_result"
    }
   ],
   "source": [
    "%run top_five_cust.py\n",
    "# Here the correct arguments should be added\n",
    "df=data_cleaner(df)\n",
    "top_five_cust(df)"
   ]
  },
  {
   "cell_type": "markdown",
   "id": "7b7b31c9",
   "metadata": {},
   "source": [
    "#### 8) Create the **`top_five_spenders`** function, which takes a Pandas DataFrame as input and **returns a list of** **`CustomerID`s** **corresponding to the five customers who have spent the most money.** Use the newly created **`amount_spent`** column for this exercise.\n"
   ]
  },
  {
   "cell_type": "code",
   "execution_count": 65,
   "id": "4ff3eb87",
   "metadata": {},
   "outputs": [
    {
     "name": "stdout",
     "output_type": "stream",
     "text": [
      "Overwriting top_five_spenders.py\n"
     ]
    }
   ],
   "source": [
    "%%writefile top_five_spenders.py\n",
    "import pandas as pd\n",
    "\n",
    "def top_five_spenders(df) -> list:\n",
    "    \"\"\"Returns the tiop 5 custoemrs who spent the most money according to the input dataframe.\"\"\"\n",
    "    df = df.copy()\n",
    "\n",
    "    grouped = df.groupby(\"CustomerID\", as_index=False).agg({\"amount_spent\" :\"sum\"})\n",
    "    sorted_spenders = grouped.sort_values(by=\"amount_spent\", ascending=False)\n",
    "\n",
    "    return sorted_spenders[:5][\"CustomerID\"].tolist()\n",
    "\n"
   ]
  },
  {
   "cell_type": "markdown",
   "id": "15009f25",
   "metadata": {},
   "source": [
    "#### Call your `top_five_spenders` function on the now cleaned `df` below to view the results:\n"
   ]
  },
  {
   "cell_type": "code",
   "execution_count": 66,
   "id": "1b855ebb",
   "metadata": {},
   "outputs": [
    {
     "data": {
      "text/plain": [
       "[18102.0, 15061.0, 16029.0, 14646.0, 14911.0]"
      ]
     },
     "execution_count": 66,
     "metadata": {},
     "output_type": "execute_result"
    }
   ],
   "source": [
    "%run top_five_spenders.py\n",
    "# Here the correct arguments should be added\n",
    "df=data_cleaner(df)\n",
    "top_five_spenders(df)"
   ]
  },
  {
   "cell_type": "markdown",
   "id": "a81652ff",
   "metadata": {},
   "source": [
    "#### 9) Create the **`most_expensive_item`** function, which receives a Pandas DataFrame as input and **returns a string representing the `Description` of the most expensive item.**\n"
   ]
  },
  {
   "cell_type": "code",
   "execution_count": 67,
   "id": "2c9536b3",
   "metadata": {},
   "outputs": [
    {
     "name": "stdout",
     "output_type": "stream",
     "text": [
      "Overwriting most_expensive_item.py\n"
     ]
    }
   ],
   "source": [
    "%%writefile most_expensive_item.py\n",
    "import pandas as pd\n",
    "\n",
    "def most_expensive_item(df) -> str:\n",
    "     \"\"\"Returns the most expensive item in the input dataframe.\"\"\"\n",
    "     df=df.copy()\n",
    "\n",
    "     df = df[df[\"StockCode\"].astype(str).str.isnumeric()] #so we only get valid orders and avoid 'POSTAGE', 'Manual' etc. since we want an actual item \n",
    "\n",
    "     df = df.sort_values(by=\"UnitPrice\", ascending=False)\n",
    "     df = df.drop_duplicates(subset=\"Description\")\n",
    "\n",
    "     most_expensive = df.iloc[0][\"Description\"]\n",
    "     return most_expensive\n"
   ]
  },
  {
   "cell_type": "markdown",
   "id": "59ae896e",
   "metadata": {},
   "source": [
    "#### Call your `most_expensive_item` function on the now cleaned `df` below to view the results:"
   ]
  },
  {
   "cell_type": "code",
   "execution_count": 68,
   "id": "a7a3234b",
   "metadata": {},
   "outputs": [
    {
     "data": {
      "text/plain": [
       "'VINTAGE RED KITCHEN CABINET'"
      ]
     },
     "execution_count": 68,
     "metadata": {},
     "output_type": "execute_result"
    }
   ],
   "source": [
    "%run most_expensive_item.py\n",
    "# Here the correct arguments should be added\n",
    "df=data_cleaner(df)\n",
    "most_expensive_item(df)"
   ]
  },
  {
   "cell_type": "markdown",
   "id": "2ebf4929",
   "metadata": {},
   "source": [
    "#### 10) Create the **`top_twenty_countries`** function, which receives a Pandas DataFrame as input and **returns a list of strings containing the 20 countries with the highest number of orders.** Note that this follows the same logic as question 7, so be careful with repeated orders (same invoice numbers)!\n"
   ]
  },
  {
   "cell_type": "code",
   "execution_count": 69,
   "id": "8ed75b0a",
   "metadata": {},
   "outputs": [
    {
     "name": "stdout",
     "output_type": "stream",
     "text": [
      "Overwriting top_twenty_countries.py\n"
     ]
    }
   ],
   "source": [
    "%%writefile top_twenty_countries.py\n",
    "import pandas as pd\n",
    "from typing import List\n",
    "\n",
    "def top_twenty_countries(df) -> List[str]:\n",
    "  \"\"\"Returns the 20 countries with the highest number of orders from the input dataframe.\"\"\"\n",
    "  df=df.copy()\n",
    "\n",
    "  grouped = (\n",
    "    df.groupby(\"InvoiceNo\", as_index=False)\n",
    "      .agg({\n",
    "          \"Country\": \"first\"\n",
    "      })\n",
    "    )\n",
    "\n",
    "  country_counts = grouped[\"Country\"].value_counts()\n",
    "  \n",
    "  return_list = [country for country in country_counts.head(20).index]\n",
    "  return return_list"
   ]
  },
  {
   "cell_type": "markdown",
   "id": "925b8871",
   "metadata": {},
   "source": [
    "#### Call your `top_twenty_countries` function on the now cleaned `df` below to view the results:"
   ]
  },
  {
   "cell_type": "code",
   "execution_count": 70,
   "id": "38fae386",
   "metadata": {},
   "outputs": [
    {
     "data": {
      "text/plain": [
       "['United Kingdom',\n",
       " 'Germany',\n",
       " 'France',\n",
       " 'EIRE',\n",
       " 'Portugal',\n",
       " 'Belgium',\n",
       " 'Lithuania',\n",
       " 'Spain',\n",
       " 'Australia',\n",
       " 'Netherlands',\n",
       " 'Japan',\n",
       " 'Norway',\n",
       " 'Italy',\n",
       " 'Switzerland',\n",
       " 'Sweden',\n",
       " 'Poland',\n",
       " 'Channel Islands',\n",
       " 'Iceland',\n",
       " 'Denmark',\n",
       " 'Cyprus']"
      ]
     },
     "execution_count": 70,
     "metadata": {},
     "output_type": "execute_result"
    }
   ],
   "source": [
    "%run top_twenty_countries.py\n",
    "# Here the correct arguments should be added\n",
    "\n",
    "df=data_cleaner(df)\n",
    "top_twenty_countries(df)"
   ]
  },
  {
   "cell_type": "markdown",
   "id": "52b18f1b",
   "metadata": {},
   "source": [
    "#### 11) Create the **`popular_products`** function, which receives a Pandas DataFrame as input and **returns a list of strings representing the descriptions (`Description`) of the 5 products purchased the most times.** Note that “number of times” refers only to how often an item was purchased, not the quantity of each order!\n"
   ]
  },
  {
   "cell_type": "code",
   "execution_count": 71,
   "id": "0d1fd529",
   "metadata": {},
   "outputs": [
    {
     "name": "stdout",
     "output_type": "stream",
     "text": [
      "Overwriting popular_products.py\n"
     ]
    }
   ],
   "source": [
    "%%writefile popular_products.py\n",
    "import pandas as pd\n",
    "from typing import List\n",
    "\n",
    "def popular_products(df) -> List[str]:\n",
    "    \"\"\"Return the top 5 most frequently bought items from the input dataframe.\"\"\"\n",
    "    df = df.copy()\n",
    "    df = df[df[\"StockCode\"].astype(str).str.isnumeric()] #so we only get valid orders and avoid 'POSTAGE', 'Manual' etc. since we want an actual item \n",
    "\n",
    "    description_counts = df[\"Description\"].value_counts()\n",
    "\n",
    "    return description_counts.head(5).index.tolist()"
   ]
  },
  {
   "cell_type": "markdown",
   "id": "a4eb3735",
   "metadata": {},
   "source": [
    "#### Call your `popular_products` function on the now cleaned `df` below to view the results:"
   ]
  },
  {
   "cell_type": "code",
   "execution_count": 72,
   "id": "236f1662",
   "metadata": {},
   "outputs": [
    {
     "data": {
      "text/plain": [
       "['HAND WARMER BABUSHKA DESIGN',\n",
       " \"PAPER CHAIN KIT 50'S CHRISTMAS \",\n",
       " 'REGENCY CAKESTAND 3 TIER',\n",
       " 'SCOTTIE DOG HOT WATER BOTTLE',\n",
       " 'CHOCOLATE HOT WATER BOTTLE']"
      ]
     },
     "execution_count": 72,
     "metadata": {},
     "output_type": "execute_result"
    }
   ],
   "source": [
    "%run popular_products.py\n",
    "# Here the correct arguments should be added\n",
    "df=data_cleaner(df)\n",
    "popular_products(df)"
   ]
  },
  {
   "cell_type": "markdown",
   "id": "e89e71a1",
   "metadata": {},
   "source": [
    "#### 12) Create the **`country_best_product`** function, which receives a Pandas DataFrame and a string as input. The string represents a country. The function must **return** `None` if the country is not present in the DataFrame. Otherwise, it should **return the description of the item that is most frequently purchased in that country.** Remember that “most frequently purchased” refers to how often the item appears, not the quantity purchased.\n"
   ]
  },
  {
   "cell_type": "code",
   "execution_count": 73,
   "id": "1fb9c986",
   "metadata": {},
   "outputs": [
    {
     "name": "stdout",
     "output_type": "stream",
     "text": [
      "Overwriting country_best_product.py\n"
     ]
    }
   ],
   "source": [
    "%%writefile country_best_product.py\n",
    "import pandas as pd\n",
    "\n",
    "def country_best_product(df, country) -> str:\n",
    "    \"\"\"Returns the most frequently bought item in the input country according to the input dataframe.\"\"\"\n",
    "    df = df.copy()\n",
    "    df = df[df[\"StockCode\"].astype(str).str.isnumeric()] #so we only get valid orders and avoid 'POSTAGE', 'Manual' etc. since we want an actual item \n",
    "\n",
    "    if country not in df[\"Country\"].values:\n",
    "        return None\n",
    "    \n",
    "    df = df[df[\"Country\"] == country]\n",
    "\n",
    "    product_counts = df[\"Description\"].value_counts()\n",
    "\n",
    "    return product_counts.index[0] if not product_counts.empty else None"
   ]
  },
  {
   "cell_type": "markdown",
   "id": "b3a1ee9c",
   "metadata": {},
   "source": [
    "#### Call your `country_best_product` function on the now cleaned `df` and \"Portugal\" below to view the results:"
   ]
  },
  {
   "cell_type": "code",
   "execution_count": 74,
   "id": "8a036edf",
   "metadata": {},
   "outputs": [
    {
     "data": {
      "text/plain": [
       "'RED TOADSTOOL LED NIGHT LIGHT'"
      ]
     },
     "execution_count": 74,
     "metadata": {},
     "output_type": "execute_result"
    }
   ],
   "source": [
    "%run country_best_product.py\n",
    "# Here the correct arguments should be added\n",
    "df=data_cleaner(df)\n",
    "country_best_product(df, \"France\")"
   ]
  },
  {
   "cell_type": "markdown",
   "id": "4c49ba76",
   "metadata": {},
   "source": [
    "# Part II"
   ]
  },
  {
   "cell_type": "markdown",
   "id": "8bf36734",
   "metadata": {},
   "source": [
    "#### 13) Create the **`load_customer_data(filepath: str)`** function which loads the **`customer_info.csv`** file into a Pandas DataFrame and returns it. Call this function and save the result into a DataFrame named **`customers`**.\n"
   ]
  },
  {
   "cell_type": "code",
   "execution_count": 75,
   "id": "4094ee1e",
   "metadata": {},
   "outputs": [
    {
     "name": "stdout",
     "output_type": "stream",
     "text": [
      "Overwriting load_customer_data.py\n"
     ]
    }
   ],
   "source": [
    "%%writefile load_customer_data.py\n",
    "import pandas as pd\n",
    "\n",
    "def load_customer_data(filepath: str) -> pd.DataFrame:\n",
    "    \"\"\"Returns the customer info dataframe if the provided directory path to the csv is valid, otherwise it raises an error.\n",
    "    - If using global Windows paths, prefix string with 'r'\"\"\"\n",
    "    safepath = filepath.strip().replace(\"\\\\\", \"/\") # to handle different types of filepaths and backspaces at the ends\n",
    "    try:\n",
    "        \n",
    "        return pd.read_csv(safepath)\n",
    "    except Exception as error_class:\n",
    "        print(load_customer_data.__doc__) #to also get the Windows path warning with the error\n",
    "        raise ValueError(\"Invalid input\") from error_class"
   ]
  },
  {
   "cell_type": "code",
   "execution_count": 76,
   "id": "6b71d07a",
   "metadata": {},
   "outputs": [
    {
     "data": {
      "text/html": [
       "<div>\n",
       "<style scoped>\n",
       "    .dataframe tbody tr th:only-of-type {\n",
       "        vertical-align: middle;\n",
       "    }\n",
       "\n",
       "    .dataframe tbody tr th {\n",
       "        vertical-align: top;\n",
       "    }\n",
       "\n",
       "    .dataframe thead th {\n",
       "        text-align: right;\n",
       "    }\n",
       "</style>\n",
       "<table border=\"1\" class=\"dataframe\">\n",
       "  <thead>\n",
       "    <tr style=\"text-align: right;\">\n",
       "      <th></th>\n",
       "      <th>CustomerID</th>\n",
       "      <th>FirstName</th>\n",
       "      <th>LastName</th>\n",
       "      <th>Email</th>\n",
       "      <th>Phone</th>\n",
       "      <th>Age</th>\n",
       "      <th>YearsActive</th>\n",
       "      <th>NumChildren</th>\n",
       "      <th>VIP</th>\n",
       "      <th>EstimatedAnnualSpend</th>\n",
       "    </tr>\n",
       "  </thead>\n",
       "  <tbody>\n",
       "    <tr>\n",
       "      <th>0</th>\n",
       "      <td>17850.0</td>\n",
       "      <td>Rowan</td>\n",
       "      <td>White</td>\n",
       "      <td>rowan.white0.0@mail.test</td>\n",
       "      <td>+6-642-419-1833</td>\n",
       "      <td>56</td>\n",
       "      <td>11</td>\n",
       "      <td>2</td>\n",
       "      <td>No</td>\n",
       "      <td>5352.29</td>\n",
       "    </tr>\n",
       "    <tr>\n",
       "      <th>1</th>\n",
       "      <td>13047.0</td>\n",
       "      <td>Casey</td>\n",
       "      <td>Johnson</td>\n",
       "      <td>casey.johnson7.0@sample.net</td>\n",
       "      <td>+5-208-357-5102</td>\n",
       "      <td>20</td>\n",
       "      <td>2</td>\n",
       "      <td>1</td>\n",
       "      <td>No</td>\n",
       "      <td>1554.88</td>\n",
       "    </tr>\n",
       "    <tr>\n",
       "      <th>2</th>\n",
       "      <td>12583.0</td>\n",
       "      <td>Morgan</td>\n",
       "      <td>Harris</td>\n",
       "      <td>morgan.harris3.0@sample.net</td>\n",
       "      <td>+1-877-772-1298</td>\n",
       "      <td>34</td>\n",
       "      <td>7</td>\n",
       "      <td>2</td>\n",
       "      <td>No</td>\n",
       "      <td>3396.24</td>\n",
       "    </tr>\n",
       "    <tr>\n",
       "      <th>3</th>\n",
       "      <td>13748.0</td>\n",
       "      <td>Casey</td>\n",
       "      <td>Harris</td>\n",
       "      <td>casey.harris8.0@demo.org</td>\n",
       "      <td>+5-854-311-7228</td>\n",
       "      <td>56</td>\n",
       "      <td>5</td>\n",
       "      <td>4</td>\n",
       "      <td>No</td>\n",
       "      <td>1243.36</td>\n",
       "    </tr>\n",
       "    <tr>\n",
       "      <th>4</th>\n",
       "      <td>15100.0</td>\n",
       "      <td>Riley</td>\n",
       "      <td>Thompson</td>\n",
       "      <td>riley.thompson0.0@mail.test</td>\n",
       "      <td>+2-818-901-1646</td>\n",
       "      <td>42</td>\n",
       "      <td>1</td>\n",
       "      <td>3</td>\n",
       "      <td>No</td>\n",
       "      <td>661.39</td>\n",
       "    </tr>\n",
       "  </tbody>\n",
       "</table>\n",
       "</div>"
      ],
      "text/plain": [
       "   CustomerID FirstName  LastName                        Email  \\\n",
       "0     17850.0     Rowan     White     rowan.white0.0@mail.test   \n",
       "1     13047.0     Casey   Johnson  casey.johnson7.0@sample.net   \n",
       "2     12583.0    Morgan    Harris  morgan.harris3.0@sample.net   \n",
       "3     13748.0     Casey    Harris     casey.harris8.0@demo.org   \n",
       "4     15100.0     Riley  Thompson  riley.thompson0.0@mail.test   \n",
       "\n",
       "             Phone  Age  YearsActive  NumChildren VIP  EstimatedAnnualSpend  \n",
       "0  +6-642-419-1833   56           11            2  No               5352.29  \n",
       "1  +5-208-357-5102   20            2            1  No               1554.88  \n",
       "2  +1-877-772-1298   34            7            2  No               3396.24  \n",
       "3  +5-854-311-7228   56            5            4  No               1243.36  \n",
       "4  +2-818-901-1646   42            1            3  No                661.39  "
      ]
     },
     "execution_count": 76,
     "metadata": {},
     "output_type": "execute_result"
    }
   ],
   "source": [
    "# Use the loading function with the file paths. Replace '...' with the path to 'customer_info.csv'\n",
    "%run load_customer_data.py\n",
    "# Here the correct arguments should be added\n",
    "customers = load_customer_data(\"teste/customer_info.csv\")\n",
    "\n",
    "customers.head()"
   ]
  },
  {
   "cell_type": "markdown",
   "id": "0cfcea55",
   "metadata": {},
   "source": [
    "#### 14) Create the **`average_age`** function, which takes two Pandas DataFrames as input: the retail DataFrame and the customer DataFrame. The function should use the one created in exercise 7) to obtain the list of the top 5 customers, and then **return a float representing the average age of these top 5 customers (those who placed the most orders).**\n"
   ]
  },
  {
   "cell_type": "code",
   "execution_count": 77,
   "id": "b797fc3f",
   "metadata": {},
   "outputs": [
    {
     "name": "stdout",
     "output_type": "stream",
     "text": [
      "Overwriting average_age.py\n"
     ]
    }
   ],
   "source": [
    "%%writefile average_age.py\n",
    "import pandas as pd\n",
    "from top_five_cust import top_five_cust\n",
    "\n",
    "def average_age(df, customers) -> float:\n",
    "    \"\"\"Returns the average age of the top 5 customers according to the customer information and retail dataframes.\"\"\"\n",
    "    df = df.copy()\n",
    "    customers = customers.copy()\n",
    "\n",
    "    top_5 = top_five_cust(df)\n",
    "    customers_top5_only = customers[customers[\"CustomerID\"].isin(top_5)]\n",
    "\n",
    "    return customers_top5_only[\"Age\"].mean()\n",
    "    "
   ]
  },
  {
   "cell_type": "markdown",
   "id": "9d70298f",
   "metadata": {},
   "source": [
    "#### Call your `average_age` function on the now cleaned `df` and `customers` below to view the results:"
   ]
  },
  {
   "cell_type": "code",
   "execution_count": 78,
   "id": "25e3bf1b",
   "metadata": {},
   "outputs": [
    {
     "data": {
      "text/plain": [
       "np.float64(51.0)"
      ]
     },
     "execution_count": 78,
     "metadata": {},
     "output_type": "execute_result"
    }
   ],
   "source": [
    "%run average_age.py\n",
    "# Here the correct arguments should be added\n",
    "average_age(df, customers)\n"
   ]
  },
  {
   "cell_type": "markdown",
   "id": "919e2aeb",
   "metadata": {},
   "source": [
    "#### 15) Create the **`most_active`** function, which takes the customer DataFrame as input and **returns a list of strings containing the emails of the customers who have been active for the longest period of time (`YearsActive`).**\n"
   ]
  },
  {
   "cell_type": "code",
   "execution_count": 79,
   "id": "ee1ec814",
   "metadata": {},
   "outputs": [
    {
     "name": "stdout",
     "output_type": "stream",
     "text": [
      "Overwriting most_active.py\n"
     ]
    }
   ],
   "source": [
    "%%writefile most_active.py\n",
    "import pandas as pd\n",
    "from typing import List\n",
    "\n",
    "def most_active(customers) -> List[str]:\n",
    "    \"\"\"Returns a list of the customers who have been active for the longest according to the customers dataframe.\"\"\"\n",
    "    customers = customers.copy()\n",
    "\n",
    "    most_active_customers = customers[customers[\"YearsActive\"] == customers[\"YearsActive\"].max()]\n",
    "\n",
    "    return most_active_customers[\"Email\"].sort_values().tolist() #sorted so me and my assignment partner can compare values\n"
   ]
  },
  {
   "cell_type": "markdown",
   "id": "b7f1338e",
   "metadata": {},
   "source": [
    "#### Call your `most_active` function on the `customers` DataFrame below to view the results:"
   ]
  },
  {
   "cell_type": "code",
   "execution_count": 80,
   "id": "9519d5a6",
   "metadata": {},
   "outputs": [
    {
     "data": {
      "text/plain": [
       "['alex.anderson6.0@example.com',\n",
       " 'alex.clark2.0@no-reply.io',\n",
       " 'alex.garcia9.0@no-reply.io',\n",
       " 'alex.harris6.0@example.com',\n",
       " 'alex.harris8.0@example.com',\n",
       " 'alex.king5.0@example.com',\n",
       " 'alex.lee4.0@sample.net',\n",
       " 'alex.lee7.0@demo.org',\n",
       " 'alex.smith2.0@no-reply.io',\n",
       " 'alex.smith7.0@example.com',\n",
       " 'alex.taylor9.0@sample.net',\n",
       " 'alex.thomas6.0@example.com',\n",
       " 'alex.thomas6.0@no-reply.io',\n",
       " 'alex.thompson0.0@example.com',\n",
       " 'alex.thompson5.0@example.com',\n",
       " 'alex.thompson6.0@no-reply.io',\n",
       " 'alex.walker3.0@mail.test',\n",
       " 'alex.walker5.0@demo.org',\n",
       " 'alex.walker5.0@sample.net',\n",
       " 'alex.young0.0@mail.test',\n",
       " 'avery.allen1.0@sample.net',\n",
       " 'avery.clark1.0@no-reply.io',\n",
       " 'avery.clark6.0@demo.org',\n",
       " 'avery.hall3.0@no-reply.io',\n",
       " 'avery.king1.0@demo.org',\n",
       " 'avery.lewis4.0@example.com',\n",
       " 'avery.martin6.0@example.com',\n",
       " 'avery.taylor5.0@mail.test',\n",
       " 'avery.taylor6.0@sample.net',\n",
       " 'avery.taylor8.0@demo.org',\n",
       " 'avery.taylor8.0@mail.test',\n",
       " 'avery.thomas0.0@no-reply.io',\n",
       " 'avery.thompson0.0@example.com',\n",
       " 'avery.thompson8.0@mail.test',\n",
       " 'avery.walker1.0@example.com',\n",
       " 'avery.white8.0@example.com',\n",
       " 'avery.young0.0@demo.org',\n",
       " 'avery.young0.0@example.com',\n",
       " 'avery.young6.0@sample.net',\n",
       " 'avery.young7.0@demo.org',\n",
       " 'blake.allen2.0@demo.org',\n",
       " 'blake.anderson1.0@example.com',\n",
       " 'blake.clark8.0@sample.net',\n",
       " 'blake.garcia4.0@mail.test',\n",
       " 'blake.garcia7.0@no-reply.io',\n",
       " 'blake.harris9.0@sample.net',\n",
       " 'blake.jackson0.0@sample.net',\n",
       " 'blake.jackson1.0@no-reply.io',\n",
       " 'blake.jackson2.0@sample.net',\n",
       " 'blake.jackson5.0@demo.org',\n",
       " 'blake.johnson4.0@sample.net',\n",
       " 'blake.johnson6.0@demo.org',\n",
       " 'blake.johnson8.0@mail.test',\n",
       " 'blake.king1.0@no-reply.io',\n",
       " 'blake.king6.0@demo.org',\n",
       " 'blake.lee4.0@example.com',\n",
       " 'blake.lee5.0@example.com',\n",
       " 'blake.lewis2.0@example.com',\n",
       " 'blake.martin8.0@example.com',\n",
       " 'blake.taylor0.0@no-reply.io',\n",
       " 'blake.taylor3.0@mail.test',\n",
       " 'blake.taylor4.0@mail.test',\n",
       " 'blake.thomas0.0@mail.test',\n",
       " 'blake.thomas0.0@sample.net',\n",
       " 'blake.thomas2.0@sample.net',\n",
       " 'blake.thompson4.0@no-reply.io',\n",
       " 'blake.thompson5.0@sample.net',\n",
       " 'blake.white0.0@mail.test',\n",
       " 'cameron.allen2.0@demo.org',\n",
       " 'cameron.brown3.0@mail.test',\n",
       " 'cameron.brown9.0@no-reply.io',\n",
       " 'cameron.clark5.0@demo.org',\n",
       " 'cameron.clark7.0@sample.net',\n",
       " 'cameron.hall5.0@example.com',\n",
       " 'cameron.hall9.0@example.com',\n",
       " 'cameron.harris7.0@mail.test',\n",
       " 'cameron.jackson1.0@sample.net',\n",
       " 'cameron.lee4.0@demo.org',\n",
       " 'cameron.lee7.0@no-reply.io',\n",
       " 'cameron.lewis0.0@demo.org',\n",
       " 'cameron.lewis4.0@mail.test',\n",
       " 'cameron.martin7.0@demo.org',\n",
       " 'cameron.smith2.0@mail.test',\n",
       " 'cameron.taylor1.0@no-reply.io',\n",
       " 'cameron.taylor3.0@example.com',\n",
       " 'cameron.thomas1.0@no-reply.io',\n",
       " 'cameron.thomas2.0@demo.org',\n",
       " 'cameron.thomas6.0@no-reply.io',\n",
       " 'cameron.thomas7.0@mail.test',\n",
       " 'cameron.thompson0.0@demo.org',\n",
       " 'cameron.walker0.0@demo.org',\n",
       " 'cameron.walker0.0@mail.test',\n",
       " 'cameron.walker6.0@mail.test',\n",
       " 'cameron.white4.0@no-reply.io',\n",
       " 'casey.allen3.0@sample.net',\n",
       " 'casey.allen6.0@no-reply.io',\n",
       " 'casey.anderson8.0@mail.test',\n",
       " 'casey.brown1.0@sample.net',\n",
       " 'casey.brown6.0@demo.org',\n",
       " 'casey.clark9.0@example.com',\n",
       " 'casey.hall1.0@demo.org',\n",
       " 'casey.harris3.0@no-reply.io',\n",
       " 'casey.harris9.0@demo.org',\n",
       " 'casey.jackson6.0@sample.net',\n",
       " 'casey.johnson6.0@no-reply.io',\n",
       " 'casey.johnson6.0@no-reply.io',\n",
       " 'casey.king4.0@sample.net',\n",
       " 'casey.lee8.0@example.com',\n",
       " 'casey.lee8.0@example.com',\n",
       " 'casey.martin4.0@demo.org',\n",
       " 'casey.martin5.0@demo.org',\n",
       " 'casey.smith4.0@no-reply.io',\n",
       " 'casey.smith8.0@demo.org',\n",
       " 'casey.walker7.0@demo.org',\n",
       " 'chris.allen1.0@demo.org',\n",
       " 'chris.anderson9.0@example.com',\n",
       " 'chris.brown6.0@no-reply.io',\n",
       " 'chris.clark0.0@no-reply.io',\n",
       " 'chris.clark4.0@mail.test',\n",
       " 'chris.clark9.0@no-reply.io',\n",
       " 'chris.hall3.0@sample.net',\n",
       " 'chris.hall5.0@mail.test',\n",
       " 'chris.martin9.0@mail.test',\n",
       " 'chris.smith8.0@demo.org',\n",
       " 'chris.thomas1.0@demo.org',\n",
       " 'chris.thompson1.0@no-reply.io',\n",
       " 'chris.thompson5.0@example.com',\n",
       " 'chris.young2.0@no-reply.io',\n",
       " 'drew.clark5.0@demo.org',\n",
       " 'drew.clark5.0@no-reply.io',\n",
       " 'drew.garcia3.0@demo.org',\n",
       " 'drew.king9.0@mail.test',\n",
       " 'drew.martin3.0@demo.org',\n",
       " 'drew.martin6.0@no-reply.io',\n",
       " 'drew.taylor2.0@example.com',\n",
       " 'drew.taylor5.0@mail.test',\n",
       " 'drew.taylor7.0@example.com',\n",
       " 'drew.thomas2.0@no-reply.io',\n",
       " 'drew.thompson9.0@demo.org',\n",
       " 'drew.white7.0@example.com',\n",
       " 'drew.young3.0@example.com',\n",
       " 'drew.young7.0@demo.org',\n",
       " 'drew.young9.0@demo.org',\n",
       " 'elliot.allen5.0@example.com',\n",
       " 'elliot.anderson2.0@no-reply.io',\n",
       " 'elliot.clark1.0@example.com',\n",
       " 'elliot.clark3.0@mail.test',\n",
       " 'elliot.clark8.0@mail.test',\n",
       " 'elliot.harris9.0@mail.test',\n",
       " 'elliot.jackson9.0@demo.org',\n",
       " 'elliot.king1.0@sample.net',\n",
       " 'elliot.lee4.0@mail.test',\n",
       " 'elliot.lewis1.0@demo.org',\n",
       " 'elliot.martin1.0@no-reply.io',\n",
       " 'elliot.taylor0.0@mail.test',\n",
       " 'elliot.thomas5.0@example.com',\n",
       " 'elliot.thomas5.0@sample.net',\n",
       " 'elliot.thompson6.0@example.com',\n",
       " 'elliot.thompson6.0@example.com',\n",
       " 'elliot.walker3.0@demo.org',\n",
       " 'elliot.walker9.0@mail.test',\n",
       " 'elliot.white2.0@sample.net',\n",
       " 'elliot.white4.0@mail.test',\n",
       " 'elliot.young5.0@mail.test',\n",
       " 'elliot.young8.0@demo.org',\n",
       " 'elliot.young8.0@no-reply.io',\n",
       " 'hayden.allen2.0@sample.net',\n",
       " 'hayden.anderson4.0@mail.test',\n",
       " 'hayden.brown1.0@demo.org',\n",
       " 'hayden.brown5.0@sample.net',\n",
       " 'hayden.clark0.0@demo.org',\n",
       " 'hayden.clark4.0@demo.org',\n",
       " 'hayden.clark5.0@mail.test',\n",
       " 'hayden.garcia7.0@sample.net',\n",
       " 'hayden.hall3.0@example.com',\n",
       " 'hayden.hall9.0@no-reply.io',\n",
       " 'hayden.harris4.0@mail.test',\n",
       " 'hayden.johnson5.0@demo.org',\n",
       " 'hayden.king2.0@mail.test',\n",
       " 'hayden.lewis0.0@demo.org',\n",
       " 'hayden.martin7.0@mail.test',\n",
       " 'hayden.taylor9.0@sample.net',\n",
       " 'hayden.young6.0@example.com',\n",
       " 'jamie.anderson2.0@example.com',\n",
       " 'jamie.anderson3.0@demo.org',\n",
       " 'jamie.anderson7.0@no-reply.io',\n",
       " 'jamie.brown1.0@no-reply.io',\n",
       " 'jamie.brown3.0@mail.test',\n",
       " 'jamie.brown5.0@mail.test',\n",
       " 'jamie.brown6.0@no-reply.io',\n",
       " 'jamie.garcia4.0@no-reply.io',\n",
       " 'jamie.hall2.0@no-reply.io',\n",
       " 'jamie.johnson6.0@example.com',\n",
       " 'jamie.johnson7.0@demo.org',\n",
       " 'jamie.johnson9.0@mail.test',\n",
       " 'jamie.king8.0@demo.org',\n",
       " 'jamie.lee7.0@mail.test',\n",
       " 'jamie.smith7.0@example.com',\n",
       " 'jamie.taylor9.0@sample.net',\n",
       " 'jamie.thomas2.0@mail.test',\n",
       " 'jamie.thompson6.0@mail.test',\n",
       " 'jamie.thompson6.0@no-reply.io',\n",
       " 'jamie.thompson7.0@mail.test',\n",
       " 'jamie.young5.0@no-reply.io',\n",
       " 'jamie.young8.0@demo.org',\n",
       " 'jordan.clark2.0@demo.org',\n",
       " 'jordan.hall0.0@example.com',\n",
       " 'jordan.harris8.0@example.com',\n",
       " 'jordan.lee7.0@sample.net',\n",
       " 'jordan.lee9.0@mail.test',\n",
       " 'jordan.lewis0.0@demo.org',\n",
       " 'jordan.lewis0.0@mail.test',\n",
       " 'jordan.lewis4.0@sample.net',\n",
       " 'jordan.lewis9.0@no-reply.io',\n",
       " 'jordan.taylor0.0@demo.org',\n",
       " 'jordan.thomas6.0@no-reply.io',\n",
       " 'jordan.thomas8.0@mail.test',\n",
       " 'jordan.walker1.0@mail.test',\n",
       " 'jordan.walker7.0@no-reply.io',\n",
       " 'jordan.walker8.0@example.com',\n",
       " 'jordan.walker9.0@sample.net',\n",
       " 'jordan.white4.0@no-reply.io',\n",
       " 'jordan.white9.0@sample.net',\n",
       " 'jordan.young1.0@no-reply.io',\n",
       " 'jordan.young1.0@sample.net',\n",
       " 'logan.allen9.0@example.com',\n",
       " 'logan.anderson1.0@example.com',\n",
       " 'logan.anderson8.0@mail.test',\n",
       " 'logan.brown5.0@example.com',\n",
       " 'logan.brown6.0@demo.org',\n",
       " 'logan.brown9.0@example.com',\n",
       " 'logan.clark0.0@sample.net',\n",
       " 'logan.clark4.0@mail.test',\n",
       " 'logan.garcia5.0@example.com',\n",
       " 'logan.johnson7.0@demo.org',\n",
       " 'logan.king8.0@example.com',\n",
       " 'logan.martin6.0@sample.net',\n",
       " 'logan.thomas4.0@example.com',\n",
       " 'logan.thompson1.0@example.com',\n",
       " 'logan.walker0.0@demo.org',\n",
       " 'logan.white2.0@example.com',\n",
       " 'logan.white4.0@demo.org',\n",
       " 'logan.young9.0@demo.org',\n",
       " 'morgan.allen6.0@sample.net',\n",
       " 'morgan.allen8.0@mail.test',\n",
       " 'morgan.brown0.0@mail.test',\n",
       " 'morgan.clark2.0@sample.net',\n",
       " 'morgan.harris1.0@demo.org',\n",
       " 'morgan.jackson7.0@mail.test',\n",
       " 'morgan.johnson4.0@no-reply.io',\n",
       " 'morgan.johnson6.0@demo.org',\n",
       " 'morgan.king1.0@example.com',\n",
       " 'morgan.lee6.0@example.com',\n",
       " 'morgan.lewis2.0@example.com',\n",
       " 'morgan.lewis5.0@demo.org',\n",
       " 'morgan.lewis5.0@no-reply.io',\n",
       " 'morgan.martin3.0@example.com',\n",
       " 'morgan.taylor2.0@sample.net',\n",
       " 'morgan.thomas0.0@no-reply.io',\n",
       " 'morgan.thomas7.0@sample.net',\n",
       " 'morgan.thompson0.0@example.com',\n",
       " 'morgan.thompson8.0@mail.test',\n",
       " 'morgan.young0.0@sample.net',\n",
       " 'parker.brown9.0@demo.org',\n",
       " 'parker.garcia6.0@example.com',\n",
       " 'parker.harris0.0@example.com',\n",
       " 'parker.harris1.0@example.com',\n",
       " 'parker.harris3.0@example.com',\n",
       " 'parker.harris4.0@mail.test',\n",
       " 'parker.harris5.0@no-reply.io',\n",
       " 'parker.jackson3.0@demo.org',\n",
       " 'parker.jackson6.0@demo.org',\n",
       " 'parker.johnson4.0@demo.org',\n",
       " 'parker.king5.0@no-reply.io',\n",
       " 'parker.king7.0@sample.net',\n",
       " 'parker.lee0.0@sample.net',\n",
       " 'parker.lee7.0@no-reply.io',\n",
       " 'parker.martin2.0@mail.test',\n",
       " 'parker.martin5.0@mail.test',\n",
       " 'parker.martin8.0@example.com',\n",
       " 'parker.taylor7.0@sample.net',\n",
       " 'parker.thompson6.0@no-reply.io',\n",
       " 'parker.walker9.0@mail.test',\n",
       " 'parker.young1.0@no-reply.io',\n",
       " 'parker.young2.0@mail.test',\n",
       " 'parker.young8.0@example.com',\n",
       " 'parker.young9.0@demo.org',\n",
       " 'quinn.allen2.0@demo.org',\n",
       " 'quinn.allen2.0@demo.org',\n",
       " 'quinn.allen9.0@mail.test',\n",
       " 'quinn.anderson4.0@sample.net',\n",
       " 'quinn.garcia1.0@mail.test',\n",
       " 'quinn.hall7.0@example.com',\n",
       " 'quinn.harris8.0@no-reply.io',\n",
       " 'quinn.johnson0.0@no-reply.io',\n",
       " 'quinn.king8.0@sample.net',\n",
       " 'quinn.lee2.0@mail.test',\n",
       " 'quinn.lee7.0@demo.org',\n",
       " 'quinn.lee7.0@no-reply.io',\n",
       " 'quinn.lee8.0@example.com',\n",
       " 'quinn.smith2.0@sample.net',\n",
       " 'quinn.smith4.0@example.com',\n",
       " 'quinn.smith6.0@mail.test',\n",
       " 'quinn.white9.0@sample.net',\n",
       " 'quinn.young7.0@example.com',\n",
       " 'reese.allen9.0@sample.net',\n",
       " 'reese.anderson0.0@no-reply.io',\n",
       " 'reese.anderson0.0@no-reply.io',\n",
       " 'reese.anderson3.0@no-reply.io',\n",
       " 'reese.brown2.0@mail.test',\n",
       " 'reese.brown4.0@demo.org',\n",
       " 'reese.clark5.0@sample.net',\n",
       " 'reese.hall6.0@demo.org',\n",
       " 'reese.harris4.0@no-reply.io',\n",
       " 'reese.king4.0@example.com',\n",
       " 'reese.king5.0@mail.test',\n",
       " 'reese.king9.0@sample.net',\n",
       " 'reese.lee0.0@sample.net',\n",
       " 'reese.lee8.0@demo.org',\n",
       " 'reese.lewis0.0@example.com',\n",
       " 'reese.lewis1.0@demo.org',\n",
       " 'reese.lewis9.0@demo.org',\n",
       " 'reese.taylor5.0@demo.org',\n",
       " 'reese.taylor5.0@sample.net',\n",
       " 'reese.taylor9.0@example.com',\n",
       " 'reese.thompson8.0@sample.net',\n",
       " 'reese.white5.0@demo.org',\n",
       " 'riley.allen2.0@example.com',\n",
       " 'riley.anderson2.0@sample.net',\n",
       " 'riley.garcia3.0@sample.net',\n",
       " 'riley.harris9.0@example.com',\n",
       " 'riley.king5.0@sample.net',\n",
       " 'riley.taylor1.0@example.com',\n",
       " 'riley.taylor7.0@mail.test',\n",
       " 'riley.white2.0@demo.org',\n",
       " 'riley.white3.0@sample.net',\n",
       " 'riley.white6.0@demo.org',\n",
       " 'riley.young2.0@example.com',\n",
       " 'rowan.allen3.0@sample.net',\n",
       " 'rowan.allen6.0@example.com',\n",
       " 'rowan.anderson1.0@sample.net',\n",
       " 'rowan.anderson2.0@no-reply.io',\n",
       " 'rowan.anderson3.0@mail.test',\n",
       " 'rowan.brown7.0@sample.net',\n",
       " 'rowan.clark0.0@example.com',\n",
       " 'rowan.garcia1.0@mail.test',\n",
       " 'rowan.garcia2.0@example.com',\n",
       " 'rowan.harris4.0@sample.net',\n",
       " 'rowan.jackson3.0@demo.org',\n",
       " 'rowan.king0.0@demo.org',\n",
       " 'rowan.king0.0@no-reply.io',\n",
       " 'rowan.lewis4.0@demo.org',\n",
       " 'rowan.lewis7.0@example.com',\n",
       " 'rowan.lewis9.0@sample.net',\n",
       " 'rowan.smith3.0@example.com',\n",
       " 'rowan.thomas1.0@sample.net',\n",
       " 'rowan.thomas2.0@demo.org',\n",
       " 'rowan.thomas2.0@mail.test',\n",
       " 'rowan.thomas5.0@mail.test',\n",
       " 'rowan.thomas7.0@no-reply.io',\n",
       " 'rowan.thompson1.0@demo.org',\n",
       " 'rowan.thompson9.0@example.com',\n",
       " 'rowan.thompson9.0@no-reply.io',\n",
       " 'rowan.walker5.0@mail.test',\n",
       " 'rowan.walker9.0@demo.org',\n",
       " 'rowan.white5.0@example.com',\n",
       " 'rowan.young2.0@no-reply.io',\n",
       " 'rowan.young3.0@no-reply.io',\n",
       " 'sam.allen0.0@no-reply.io',\n",
       " 'sam.anderson5.0@example.com',\n",
       " 'sam.harris3.0@example.com',\n",
       " 'sam.jackson5.0@no-reply.io',\n",
       " 'sam.johnson5.0@example.com',\n",
       " 'sam.lee3.0@example.com',\n",
       " 'sam.martin6.0@demo.org',\n",
       " 'sam.taylor0.0@sample.net',\n",
       " 'sam.thomas3.0@demo.org',\n",
       " 'sam.thomas4.0@mail.test',\n",
       " 'sam.thomas5.0@sample.net',\n",
       " 'sam.thomas7.0@example.com',\n",
       " 'sam.walker8.0@example.com',\n",
       " 'sam.white0.0@example.com',\n",
       " 'sam.white6.0@mail.test',\n",
       " 'sam.young6.0@example.com',\n",
       " 'taylor.clark9.0@example.com',\n",
       " 'taylor.garcia3.0@no-reply.io',\n",
       " 'taylor.jackson6.0@demo.org',\n",
       " 'taylor.king2.0@example.com',\n",
       " 'taylor.king3.0@no-reply.io',\n",
       " 'taylor.lewis4.0@demo.org',\n",
       " 'taylor.lewis9.0@example.com',\n",
       " 'taylor.martin1.0@example.com',\n",
       " 'taylor.smith2.0@mail.test',\n",
       " 'taylor.smith9.0@example.com',\n",
       " 'taylor.thomas2.0@mail.test',\n",
       " 'taylor.thompson5.0@example.com',\n",
       " 'taylor.walker0.0@sample.net',\n",
       " 'taylor.walker4.0@mail.test',\n",
       " 'taylor.walker5.0@no-reply.io',\n",
       " 'taylor.white3.0@mail.test',\n",
       " 'taylor.white6.0@example.com',\n",
       " 'taylor.young7.0@mail.test']"
      ]
     },
     "execution_count": 80,
     "metadata": {},
     "output_type": "execute_result"
    }
   ],
   "source": [
    "%run most_active.py\n",
    "# Here the correct arguments should be added\n",
    "most_active(customers)"
   ]
  },
  {
   "cell_type": "markdown",
   "id": "2739326b",
   "metadata": {},
   "source": [
    "#### 16) Create the **`parenthood_marketing`** function, which takes two Pandas DataFrames as input: the retail DataFrame and the customer DataFrame. The function should **return a list of 5 strings representing the countries with the highest average number of children among their customers.**\n"
   ]
  },
  {
   "cell_type": "code",
   "execution_count": 81,
   "id": "e08de44a",
   "metadata": {},
   "outputs": [
    {
     "name": "stdout",
     "output_type": "stream",
     "text": [
      "Overwriting parenthood_marketing.py\n"
     ]
    }
   ],
   "source": [
    "%%writefile parenthood_marketing.py\n",
    "import pandas as pd\n",
    "from typing import List\n",
    "\n",
    "def parenthood_marketing(df, customers) -> List[str]:\n",
    "    \"\"\"\n",
    "    IF YOURE READING THIS, THIS ONE IS WRONG, YOUR VERSION is THE ONE WITH THE CORRECT JOIN TYPE.\n",
    "    \n",
    "\n",
    "\n",
    "\n",
    "\n",
    "\n",
    "    Returns the top 5 countries with customers who on average have more children according to the customer information and retail dataframes.   \n",
    "\n",
    "    df = df.copy()\n",
    "    customers = customers.copy()\n",
    "\n",
    "    id_country = df[[\"CustomerID\", \"Country\"]].drop_duplicates()\n",
    "    merged = pd.merge(customers, id_country, on=\"CustomerID\", how=\"left\")\n",
    "\n",
    "    parenthood_mean = (\n",
    "        merged.groupby(\"Country\")[\"NumChildren\"]\n",
    "        .mean()\n",
    "        .sort_values(ascending=False)\n",
    "    )\n",
    "\n",
    "    return parenthood_mean.head(5).index.tolist()\n",
    "    \"\"\"\n",
    "    pass"
   ]
  },
  {
   "cell_type": "markdown",
   "id": "edb52248",
   "metadata": {},
   "source": [
    "#### Call your `parenthood_marketing` function on the now cleaned `df` and `customers` below to view the results:"
   ]
  },
  {
   "cell_type": "code",
   "execution_count": 82,
   "id": "daec1caa",
   "metadata": {},
   "outputs": [],
   "source": [
    "%run parenthood_marketing.py\n",
    "# Here the correct arguments should be added\n",
    "parenthood_marketing(df, customers)"
   ]
  },
  {
   "cell_type": "code",
   "execution_count": 83,
   "id": "7f048500",
   "metadata": {},
   "outputs": [
    {
     "data": {
      "text/html": [
       "<div>\n",
       "<style scoped>\n",
       "    .dataframe tbody tr th:only-of-type {\n",
       "        vertical-align: middle;\n",
       "    }\n",
       "\n",
       "    .dataframe tbody tr th {\n",
       "        vertical-align: top;\n",
       "    }\n",
       "\n",
       "    .dataframe thead th {\n",
       "        text-align: right;\n",
       "    }\n",
       "</style>\n",
       "<table border=\"1\" class=\"dataframe\">\n",
       "  <thead>\n",
       "    <tr style=\"text-align: right;\">\n",
       "      <th></th>\n",
       "      <th>InvoiceNo</th>\n",
       "      <th>StockCode</th>\n",
       "      <th>Description</th>\n",
       "      <th>Quantity</th>\n",
       "      <th>InvoiceDate</th>\n",
       "      <th>UnitPrice</th>\n",
       "      <th>CustomerID</th>\n",
       "      <th>Country</th>\n",
       "      <th>amount_spent</th>\n",
       "    </tr>\n",
       "  </thead>\n",
       "  <tbody>\n",
       "    <tr>\n",
       "      <th>0</th>\n",
       "      <td>536365</td>\n",
       "      <td>85123A</td>\n",
       "      <td>WHITE HANGING HEART T-LIGHT HOLDER</td>\n",
       "      <td>6</td>\n",
       "      <td>2010-12-01 08:26:00</td>\n",
       "      <td>2.55</td>\n",
       "      <td>17850.0</td>\n",
       "      <td>United Kingdom</td>\n",
       "      <td>15.30</td>\n",
       "    </tr>\n",
       "    <tr>\n",
       "      <th>1</th>\n",
       "      <td>536365</td>\n",
       "      <td>71053</td>\n",
       "      <td>WHITE METAL LANTERN</td>\n",
       "      <td>6</td>\n",
       "      <td>2010-12-01 08:26:00</td>\n",
       "      <td>3.39</td>\n",
       "      <td>17850.0</td>\n",
       "      <td>United Kingdom</td>\n",
       "      <td>20.34</td>\n",
       "    </tr>\n",
       "    <tr>\n",
       "      <th>2</th>\n",
       "      <td>536365</td>\n",
       "      <td>84406B</td>\n",
       "      <td>CREAM CUPID HEARTS COAT HANGER</td>\n",
       "      <td>8</td>\n",
       "      <td>2010-12-01 08:26:00</td>\n",
       "      <td>2.75</td>\n",
       "      <td>17850.0</td>\n",
       "      <td>United Kingdom</td>\n",
       "      <td>22.00</td>\n",
       "    </tr>\n",
       "    <tr>\n",
       "      <th>3</th>\n",
       "      <td>536365</td>\n",
       "      <td>84029G</td>\n",
       "      <td>KNITTED UNION FLAG HOT WATER BOTTLE</td>\n",
       "      <td>6</td>\n",
       "      <td>2010-12-01 08:26:00</td>\n",
       "      <td>3.39</td>\n",
       "      <td>17850.0</td>\n",
       "      <td>United Kingdom</td>\n",
       "      <td>20.34</td>\n",
       "    </tr>\n",
       "    <tr>\n",
       "      <th>4</th>\n",
       "      <td>536365</td>\n",
       "      <td>84029E</td>\n",
       "      <td>RED WOOLLY HOTTIE WHITE HEART.</td>\n",
       "      <td>6</td>\n",
       "      <td>2010-12-01 08:26:00</td>\n",
       "      <td>3.39</td>\n",
       "      <td>17850.0</td>\n",
       "      <td>United Kingdom</td>\n",
       "      <td>20.34</td>\n",
       "    </tr>\n",
       "  </tbody>\n",
       "</table>\n",
       "</div>"
      ],
      "text/plain": [
       "  InvoiceNo StockCode                          Description  Quantity  \\\n",
       "0    536365    85123A   WHITE HANGING HEART T-LIGHT HOLDER         6   \n",
       "1    536365     71053                  WHITE METAL LANTERN         6   \n",
       "2    536365    84406B       CREAM CUPID HEARTS COAT HANGER         8   \n",
       "3    536365    84029G  KNITTED UNION FLAG HOT WATER BOTTLE         6   \n",
       "4    536365    84029E       RED WOOLLY HOTTIE WHITE HEART.         6   \n",
       "\n",
       "          InvoiceDate  UnitPrice  CustomerID         Country  amount_spent  \n",
       "0 2010-12-01 08:26:00       2.55     17850.0  United Kingdom         15.30  \n",
       "1 2010-12-01 08:26:00       3.39     17850.0  United Kingdom         20.34  \n",
       "2 2010-12-01 08:26:00       2.75     17850.0  United Kingdom         22.00  \n",
       "3 2010-12-01 08:26:00       3.39     17850.0  United Kingdom         20.34  \n",
       "4 2010-12-01 08:26:00       3.39     17850.0  United Kingdom         20.34  "
      ]
     },
     "execution_count": 83,
     "metadata": {},
     "output_type": "execute_result"
    }
   ],
   "source": [
    "df.head()"
   ]
  },
  {
   "cell_type": "markdown",
   "id": "10a07393",
   "metadata": {},
   "source": [
    "#### 17) Create the **`babuska_clients`** function, which takes two Pandas DataFrames as input: the retail DataFrame and the customer DataFrame. The function should **return a float representing the average age of the customers who purchased the** **`\"HAND WARMER BABUSHKA DESIGN\"`** **item.**\n"
   ]
  },
  {
   "cell_type": "code",
   "execution_count": 84,
   "id": "23afdfc7",
   "metadata": {},
   "outputs": [
    {
     "name": "stdout",
     "output_type": "stream",
     "text": [
      "Overwriting babuska_clients.py\n"
     ]
    }
   ],
   "source": [
    "%%writefile babuska_clients.py\n",
    "import pandas as pd\n",
    "\n",
    "def babuska_clients(df, customers) -> float:\n",
    "    \"\"\"Returns average age of the customers who bought a 'HAND WARMER BABUSHKA DESIGN' according to the customer information and retail dataframes.\"\"\"\n",
    "    df = df.copy()\n",
    "    customers = customers.copy()\n",
    "\n",
    "    babuska = df[df[\"Description\"] == \"HAND WARMER BABUSHKA DESIGN\"]\n",
    "    ids = babuska[[\"CustomerID\", \"InvoiceNo\"]].drop_duplicates()\n",
    "    babuska_customers = customers[customers[\"CustomerID\"].isin(ids[\"CustomerID\"])]\n",
    "    avg_age = babuska_customers[\"Age\"].mean()\n",
    "\n",
    "    return avg_age\n",
    "\n",
    "\n",
    "    "
   ]
  },
  {
   "cell_type": "markdown",
   "id": "74bb3126",
   "metadata": {},
   "source": [
    "#### Call your `babuska_clients` function on the now cleaned `df` and `customers` below to view the results:"
   ]
  },
  {
   "cell_type": "code",
   "execution_count": 85,
   "id": "4324ab02",
   "metadata": {},
   "outputs": [
    {
     "data": {
      "text/plain": [
       "np.float64(47.24561403508772)"
      ]
     },
     "execution_count": 85,
     "metadata": {},
     "output_type": "execute_result"
    }
   ],
   "source": [
    "%run babuska_clients.py\n",
    "# Here the correct arguments should be added\n",
    "babuska_clients(df, customers)"
   ]
  },
  {
   "cell_type": "markdown",
   "id": "27868003",
   "metadata": {},
   "source": [
    "# Part III"
   ]
  },
  {
   "cell_type": "markdown",
   "id": "078bfa26",
   "metadata": {},
   "source": [
    "#### 18) Create the **`read_sport_dfs(teams_filepath: str, managers_filepath: str)`** function which loads the **`managers.csv`** and the **`teams.csv`** file into two Pandas DataFrames and returns them. Call this function and save the results into DataFrames named **`teams`** and **`managers`** respectively.\n"
   ]
  },
  {
   "cell_type": "code",
   "execution_count": 86,
   "id": "4685d2fd",
   "metadata": {},
   "outputs": [
    {
     "name": "stdout",
     "output_type": "stream",
     "text": [
      "Overwriting read_sport_dfs.py\n"
     ]
    }
   ],
   "source": [
    "%%writefile read_sport_dfs.py\n",
    "import pandas as pd\n",
    "from typing import Tuple\n",
    "\n",
    "def read_sport_dfs(teams_filepath: str, managers_filepath: str) -> Tuple[pd.DataFrame]:\n",
    "    \"\"\"Returns the teams and managers dataframes if the provided directory path to the csv is valid, otherwise it raises an error.\n",
    "    - If using global Windows paths, prefix string with 'r'\"\"\"\n",
    "    safepath_teams = teams_filepath.strip().replace(\"\\\\\", \"/\") # to handle different types of filepaths and backspaces at the ends\n",
    "    safepath_managers = managers_filepath.strip().replace(\"\\\\\", \"/\") \n",
    "    try:\n",
    "        teams = pd.read_csv(safepath_teams)\n",
    "        managers = pd.read_csv(safepath_managers)\n",
    "    except Exception as error_class:\n",
    "        print(read_sport_dfs.__doc__) #to also get the Windows path warning with the error\n",
    "        raise ValueError(\"Invalid input\") from error_class\n",
    "    \n",
    "    return teams, managers"
   ]
  },
  {
   "cell_type": "code",
   "execution_count": 87,
   "id": "0cddd857",
   "metadata": {},
   "outputs": [
    {
     "data": {
      "text/html": [
       "<div>\n",
       "<style scoped>\n",
       "    .dataframe tbody tr th:only-of-type {\n",
       "        vertical-align: middle;\n",
       "    }\n",
       "\n",
       "    .dataframe tbody tr th {\n",
       "        vertical-align: top;\n",
       "    }\n",
       "\n",
       "    .dataframe thead th {\n",
       "        text-align: right;\n",
       "    }\n",
       "</style>\n",
       "<table border=\"1\" class=\"dataframe\">\n",
       "  <thead>\n",
       "    <tr style=\"text-align: right;\">\n",
       "      <th></th>\n",
       "      <th>yearID</th>\n",
       "      <th>lgID</th>\n",
       "      <th>teamID</th>\n",
       "      <th>franchID</th>\n",
       "      <th>divID</th>\n",
       "      <th>Rank</th>\n",
       "      <th>G</th>\n",
       "      <th>Ghome</th>\n",
       "      <th>W</th>\n",
       "      <th>L</th>\n",
       "      <th>...</th>\n",
       "      <th>DP</th>\n",
       "      <th>FP</th>\n",
       "      <th>name</th>\n",
       "      <th>park</th>\n",
       "      <th>attendance</th>\n",
       "      <th>BPF</th>\n",
       "      <th>PPF</th>\n",
       "      <th>teamIDBR</th>\n",
       "      <th>teamIDlahman45</th>\n",
       "      <th>teamIDretro</th>\n",
       "    </tr>\n",
       "  </thead>\n",
       "  <tbody>\n",
       "    <tr>\n",
       "      <th>0</th>\n",
       "      <td>1871-12-21</td>\n",
       "      <td>NaN</td>\n",
       "      <td>BS1</td>\n",
       "      <td>BNA</td>\n",
       "      <td>NaN</td>\n",
       "      <td>3</td>\n",
       "      <td>31</td>\n",
       "      <td>NaN</td>\n",
       "      <td>20</td>\n",
       "      <td>10</td>\n",
       "      <td>...</td>\n",
       "      <td>NaN</td>\n",
       "      <td>0.83</td>\n",
       "      <td>Boston Red Stockings</td>\n",
       "      <td>South End Grounds I</td>\n",
       "      <td>NaN</td>\n",
       "      <td>103</td>\n",
       "      <td>98</td>\n",
       "      <td>BOS</td>\n",
       "      <td>BS1</td>\n",
       "      <td>BS1</td>\n",
       "    </tr>\n",
       "    <tr>\n",
       "      <th>1</th>\n",
       "      <td>1871-09-07</td>\n",
       "      <td>NaN</td>\n",
       "      <td>CH1</td>\n",
       "      <td>CNA</td>\n",
       "      <td>NaN</td>\n",
       "      <td>2</td>\n",
       "      <td>28</td>\n",
       "      <td>NaN</td>\n",
       "      <td>19</td>\n",
       "      <td>9</td>\n",
       "      <td>...</td>\n",
       "      <td>NaN</td>\n",
       "      <td>0.82</td>\n",
       "      <td>Chicago White Stockings</td>\n",
       "      <td>Union Base-Ball Grounds</td>\n",
       "      <td>NaN</td>\n",
       "      <td>104</td>\n",
       "      <td>102</td>\n",
       "      <td>CHI</td>\n",
       "      <td>CH1</td>\n",
       "      <td>CH1</td>\n",
       "    </tr>\n",
       "    <tr>\n",
       "      <th>2</th>\n",
       "      <td>1871-06-12</td>\n",
       "      <td>NaN</td>\n",
       "      <td>CL1</td>\n",
       "      <td>CFC</td>\n",
       "      <td>NaN</td>\n",
       "      <td>8</td>\n",
       "      <td>29</td>\n",
       "      <td>NaN</td>\n",
       "      <td>10</td>\n",
       "      <td>19</td>\n",
       "      <td>...</td>\n",
       "      <td>NaN</td>\n",
       "      <td>0.81</td>\n",
       "      <td>Cleveland Forest Citys</td>\n",
       "      <td>National Association Grounds</td>\n",
       "      <td>NaN</td>\n",
       "      <td>96</td>\n",
       "      <td>100</td>\n",
       "      <td>CLE</td>\n",
       "      <td>CL1</td>\n",
       "      <td>CL1</td>\n",
       "    </tr>\n",
       "    <tr>\n",
       "      <th>3</th>\n",
       "      <td>1871-02-13</td>\n",
       "      <td>NaN</td>\n",
       "      <td>FW1</td>\n",
       "      <td>KEK</td>\n",
       "      <td>NaN</td>\n",
       "      <td>7</td>\n",
       "      <td>19</td>\n",
       "      <td>NaN</td>\n",
       "      <td>7</td>\n",
       "      <td>12</td>\n",
       "      <td>...</td>\n",
       "      <td>NaN</td>\n",
       "      <td>0.80</td>\n",
       "      <td>Fort Wayne Kekiongas</td>\n",
       "      <td>Hamilton Field</td>\n",
       "      <td>NaN</td>\n",
       "      <td>101</td>\n",
       "      <td>107</td>\n",
       "      <td>KEK</td>\n",
       "      <td>FW1</td>\n",
       "      <td>FW1</td>\n",
       "    </tr>\n",
       "    <tr>\n",
       "      <th>4</th>\n",
       "      <td>1871-08-06</td>\n",
       "      <td>NaN</td>\n",
       "      <td>NY2</td>\n",
       "      <td>NNA</td>\n",
       "      <td>NaN</td>\n",
       "      <td>5</td>\n",
       "      <td>33</td>\n",
       "      <td>NaN</td>\n",
       "      <td>16</td>\n",
       "      <td>17</td>\n",
       "      <td>...</td>\n",
       "      <td>NaN</td>\n",
       "      <td>0.83</td>\n",
       "      <td>New York Mutuals</td>\n",
       "      <td>Union Grounds (Brooklyn)</td>\n",
       "      <td>NaN</td>\n",
       "      <td>90</td>\n",
       "      <td>88</td>\n",
       "      <td>NYU</td>\n",
       "      <td>NY2</td>\n",
       "      <td>NY2</td>\n",
       "    </tr>\n",
       "  </tbody>\n",
       "</table>\n",
       "<p>5 rows × 48 columns</p>\n",
       "</div>"
      ],
      "text/plain": [
       "       yearID lgID teamID franchID divID  Rank   G  Ghome   W   L  ...  DP  \\\n",
       "0  1871-12-21  NaN    BS1      BNA   NaN     3  31    NaN  20  10  ... NaN   \n",
       "1  1871-09-07  NaN    CH1      CNA   NaN     2  28    NaN  19   9  ... NaN   \n",
       "2  1871-06-12  NaN    CL1      CFC   NaN     8  29    NaN  10  19  ... NaN   \n",
       "3  1871-02-13  NaN    FW1      KEK   NaN     7  19    NaN   7  12  ... NaN   \n",
       "4  1871-08-06  NaN    NY2      NNA   NaN     5  33    NaN  16  17  ... NaN   \n",
       "\n",
       "     FP                     name                          park  attendance  \\\n",
       "0  0.83     Boston Red Stockings           South End Grounds I         NaN   \n",
       "1  0.82  Chicago White Stockings       Union Base-Ball Grounds         NaN   \n",
       "2  0.81   Cleveland Forest Citys  National Association Grounds         NaN   \n",
       "3  0.80     Fort Wayne Kekiongas                Hamilton Field         NaN   \n",
       "4  0.83         New York Mutuals      Union Grounds (Brooklyn)         NaN   \n",
       "\n",
       "   BPF  PPF  teamIDBR  teamIDlahman45  teamIDretro  \n",
       "0  103   98       BOS             BS1          BS1  \n",
       "1  104  102       CHI             CH1          CH1  \n",
       "2   96  100       CLE             CL1          CL1  \n",
       "3  101  107       KEK             FW1          FW1  \n",
       "4   90   88       NYU             NY2          NY2  \n",
       "\n",
       "[5 rows x 48 columns]"
      ]
     },
     "execution_count": 87,
     "metadata": {},
     "output_type": "execute_result"
    }
   ],
   "source": [
    "# Use the loading function with the file paths. Replace '...' with the correct paths. They should reside in your current working directory.\n",
    "%run read_sport_dfs.py\n",
    "# Here the correct arguments should be added\n",
    "teams, managers = read_sport_dfs('teste/Teams.csv', 'teste/Managers.csv')\n",
    "teams.head()"
   ]
  },
  {
   "cell_type": "code",
   "execution_count": 88,
   "id": "0fffb885",
   "metadata": {},
   "outputs": [
    {
     "data": {
      "text/html": [
       "<div>\n",
       "<style scoped>\n",
       "    .dataframe tbody tr th:only-of-type {\n",
       "        vertical-align: middle;\n",
       "    }\n",
       "\n",
       "    .dataframe tbody tr th {\n",
       "        vertical-align: top;\n",
       "    }\n",
       "\n",
       "    .dataframe thead th {\n",
       "        text-align: right;\n",
       "    }\n",
       "</style>\n",
       "<table border=\"1\" class=\"dataframe\">\n",
       "  <thead>\n",
       "    <tr style=\"text-align: right;\">\n",
       "      <th></th>\n",
       "      <th>managerID</th>\n",
       "      <th>yearID</th>\n",
       "      <th>teamID</th>\n",
       "      <th>lgID</th>\n",
       "      <th>inseason</th>\n",
       "      <th>G</th>\n",
       "      <th>W</th>\n",
       "      <th>L</th>\n",
       "      <th>rank</th>\n",
       "      <th>plyrMgr</th>\n",
       "    </tr>\n",
       "  </thead>\n",
       "  <tbody>\n",
       "    <tr>\n",
       "      <th>0</th>\n",
       "      <td>wr ighha0 1m</td>\n",
       "      <td>1871</td>\n",
       "      <td>BS1</td>\n",
       "      <td>NaN</td>\n",
       "      <td>1</td>\n",
       "      <td>31</td>\n",
       "      <td>20</td>\n",
       "      <td>10</td>\n",
       "      <td>3</td>\n",
       "      <td>Y</td>\n",
       "    </tr>\n",
       "    <tr>\n",
       "      <th>1</th>\n",
       "      <td>woodji0 1m</td>\n",
       "      <td>1871</td>\n",
       "      <td>CH1</td>\n",
       "      <td>NaN</td>\n",
       "      <td>1</td>\n",
       "      <td>28</td>\n",
       "      <td>19</td>\n",
       "      <td>9</td>\n",
       "      <td>2</td>\n",
       "      <td>Y</td>\n",
       "    </tr>\n",
       "    <tr>\n",
       "      <th>2</th>\n",
       "      <td>p ab o r c h01m</td>\n",
       "      <td>1871</td>\n",
       "      <td>CL1</td>\n",
       "      <td>NaN</td>\n",
       "      <td>1</td>\n",
       "      <td>29</td>\n",
       "      <td>10</td>\n",
       "      <td>19</td>\n",
       "      <td>8</td>\n",
       "      <td>Y</td>\n",
       "    </tr>\n",
       "    <tr>\n",
       "      <th>3</th>\n",
       "      <td>lennobi01m</td>\n",
       "      <td>1871</td>\n",
       "      <td>FW1</td>\n",
       "      <td>NaN</td>\n",
       "      <td>1</td>\n",
       "      <td>14</td>\n",
       "      <td>5</td>\n",
       "      <td>9</td>\n",
       "      <td>8</td>\n",
       "      <td>Y</td>\n",
       "    </tr>\n",
       "    <tr>\n",
       "      <th>4</th>\n",
       "      <td>de an e ha01 m</td>\n",
       "      <td>1871</td>\n",
       "      <td>FW1</td>\n",
       "      <td>NaN</td>\n",
       "      <td>2</td>\n",
       "      <td>5</td>\n",
       "      <td>2</td>\n",
       "      <td>3</td>\n",
       "      <td>8</td>\n",
       "      <td>Y</td>\n",
       "    </tr>\n",
       "    <tr>\n",
       "      <th>5</th>\n",
       "      <td>ferg ubo01 m</td>\n",
       "      <td>1871</td>\n",
       "      <td>NY2</td>\n",
       "      <td>NaN</td>\n",
       "      <td>1</td>\n",
       "      <td>33</td>\n",
       "      <td>16</td>\n",
       "      <td>17</td>\n",
       "      <td>5</td>\n",
       "      <td>Y</td>\n",
       "    </tr>\n",
       "    <tr>\n",
       "      <th>6</th>\n",
       "      <td>mc bri di 0 1 m</td>\n",
       "      <td>1871</td>\n",
       "      <td>PH1</td>\n",
       "      <td>NaN</td>\n",
       "      <td>1</td>\n",
       "      <td>28</td>\n",
       "      <td>21</td>\n",
       "      <td>7</td>\n",
       "      <td>1</td>\n",
       "      <td>Y</td>\n",
       "    </tr>\n",
       "    <tr>\n",
       "      <th>7</th>\n",
       "      <td>hastisc01m</td>\n",
       "      <td>1871</td>\n",
       "      <td>RC1</td>\n",
       "      <td>NaN</td>\n",
       "      <td>1</td>\n",
       "      <td>25</td>\n",
       "      <td>4</td>\n",
       "      <td>21</td>\n",
       "      <td>9</td>\n",
       "      <td>Y</td>\n",
       "    </tr>\n",
       "    <tr>\n",
       "      <th>8</th>\n",
       "      <td>pikeli01m</td>\n",
       "      <td>1871</td>\n",
       "      <td>TRO</td>\n",
       "      <td>NaN</td>\n",
       "      <td>1</td>\n",
       "      <td>4</td>\n",
       "      <td>1</td>\n",
       "      <td>3</td>\n",
       "      <td>6</td>\n",
       "      <td>Y</td>\n",
       "    </tr>\n",
       "    <tr>\n",
       "      <th>9</th>\n",
       "      <td>c r ave b i0 1m</td>\n",
       "      <td>1871</td>\n",
       "      <td>TRO</td>\n",
       "      <td>NaN</td>\n",
       "      <td>2</td>\n",
       "      <td>25</td>\n",
       "      <td>12</td>\n",
       "      <td>12</td>\n",
       "      <td>6</td>\n",
       "      <td>Y</td>\n",
       "    </tr>\n",
       "    <tr>\n",
       "      <th>10</th>\n",
       "      <td>yo ung ni 99 m</td>\n",
       "      <td>1871</td>\n",
       "      <td>WS3</td>\n",
       "      <td>NaN</td>\n",
       "      <td>1</td>\n",
       "      <td>32</td>\n",
       "      <td>15</td>\n",
       "      <td>15</td>\n",
       "      <td>4</td>\n",
       "      <td>N</td>\n",
       "    </tr>\n",
       "    <tr>\n",
       "      <th>11</th>\n",
       "      <td>c rav eb i0 1m</td>\n",
       "      <td>1872</td>\n",
       "      <td>BL1</td>\n",
       "      <td>NaN</td>\n",
       "      <td>1</td>\n",
       "      <td>41</td>\n",
       "      <td>27</td>\n",
       "      <td>13</td>\n",
       "      <td>2</td>\n",
       "      <td>Y</td>\n",
       "    </tr>\n",
       "  </tbody>\n",
       "</table>\n",
       "</div>"
      ],
      "text/plain": [
       "           managerID  yearID teamID lgID  inseason   G   W   L  rank plyrMgr\n",
       "0      wr ighha0 1m     1871    BS1  NaN         1  31  20  10     3       Y\n",
       "1        woodji0 1m     1871    CH1  NaN         1  28  19   9     2       Y\n",
       "2    p ab o r c h01m    1871    CL1  NaN         1  29  10  19     8       Y\n",
       "3         lennobi01m    1871    FW1  NaN         1  14   5   9     8       Y\n",
       "4     de an e ha01 m    1871    FW1  NaN         2   5   2   3     8       Y\n",
       "5      ferg ubo01 m     1871    NY2  NaN         1  33  16  17     5       Y\n",
       "6   mc bri di 0 1 m     1871    PH1  NaN         1  28  21   7     1       Y\n",
       "7         hastisc01m    1871    RC1  NaN         1  25   4  21     9       Y\n",
       "8          pikeli01m    1871    TRO  NaN         1   4   1   3     6       Y\n",
       "9    c r ave b i0 1m    1871    TRO  NaN         2  25  12  12     6       Y\n",
       "10    yo ung ni 99 m    1871    WS3  NaN         1  32  15  15     4       N\n",
       "11    c rav eb i0 1m    1872    BL1  NaN         1  41  27  13     2       Y"
      ]
     },
     "execution_count": 88,
     "metadata": {},
     "output_type": "execute_result"
    }
   ],
   "source": [
    "managers.head(12)"
   ]
  },
  {
   "cell_type": "markdown",
   "id": "066e66d3",
   "metadata": {},
   "source": [
    "#### 19) Create the **`go_sports`** function, which takes two Pandas DataFrames as input: the teams DataFrame and the manager DataFrame. This function **returns a DataFrame containing only the team name, its managerID, the year (yearID) in the ```yyyy``` format, the number of wins (`W`) per team and team number of losses (`L`) per team.**\n"
   ]
  },
  {
   "cell_type": "code",
   "execution_count": 89,
   "id": "cf105054",
   "metadata": {},
   "outputs": [
    {
     "name": "stdout",
     "output_type": "stream",
     "text": [
      "Overwriting go_sports.py\n"
     ]
    }
   ],
   "source": [
    "%%writefile go_sports.py\n",
    "import pandas as pd\n",
    "\n",
    "def go_sports(teams, managers) -> pd.DataFrame:\n",
    "    \"\"\"Returns a dataframe containing the team name, manager ID(s), yearID, wins and losses according to the teams and managers dataframes.\"\"\"\n",
    "    teams = teams.copy()\n",
    "    managers = managers.copy()\n",
    "\n",
    "    teams[\"yearID\"] = pd.to_datetime(teams[\"yearID\"], errors=\"coerce\").dt.year\n",
    "    managers[\"yearID\"] = pd.to_numeric(managers[\"yearID\"], errors=\"coerce\").astype(\"Int64\")\n",
    "\n",
    "    managers[\"managerID\"] = managers[\"managerID\"].str.replace(\" \", \"\", regex=False) #remove spaces\n",
    "\n",
    "    managers = (\n",
    "        managers.groupby([\"teamID\", \"yearID\", \"managerID\"], as_index=False)[[\"W\", \"L\"]] #we have to do this to group the now cleaned managerIDs\n",
    "        .sum())\n",
    "    teams = teams[[\"teamID\", \"yearID\", \"name\" ]]\n",
    "    managers = managers[[\"teamID\", \"yearID\", \"managerID\", \"W\", \"L\"]].drop_duplicates()\n",
    "\n",
    "    final_df = pd.merge(\n",
    "        teams,\n",
    "        managers,   \n",
    "        on=[\"teamID\", \"yearID\"],\n",
    "        how=\"inner\"\n",
    "    )\n",
    "    final_df = final_df.sort_values([\"teamID\", \"yearID\", \"managerID\"])\n",
    "\n",
    "    #to test: we should keep in mind a year of baseball has about 162 games, to check our answer we just had all games in a season and it seems to make sense\n",
    "    return final_df[[\"name\", \"managerID\", \"yearID\", \"W\", \"L\"]] "
   ]
  },
  {
   "cell_type": "markdown",
   "id": "d916802f",
   "metadata": {},
   "source": [
    "#### Call your `go_sports` function with the `managers` and `teams` DataFrames below to view the results:"
   ]
  },
  {
   "cell_type": "code",
   "execution_count": 90,
   "id": "7013f5d6",
   "metadata": {},
   "outputs": [
    {
     "data": {
      "text/html": [
       "<div>\n",
       "<style scoped>\n",
       "    .dataframe tbody tr th:only-of-type {\n",
       "        vertical-align: middle;\n",
       "    }\n",
       "\n",
       "    .dataframe tbody tr th {\n",
       "        vertical-align: top;\n",
       "    }\n",
       "\n",
       "    .dataframe thead th {\n",
       "        text-align: right;\n",
       "    }\n",
       "</style>\n",
       "<table border=\"1\" class=\"dataframe\">\n",
       "  <thead>\n",
       "    <tr style=\"text-align: right;\">\n",
       "      <th></th>\n",
       "      <th>name</th>\n",
       "      <th>managerID</th>\n",
       "      <th>yearID</th>\n",
       "      <th>W</th>\n",
       "      <th>L</th>\n",
       "    </tr>\n",
       "  </thead>\n",
       "  <tbody>\n",
       "    <tr>\n",
       "      <th>192</th>\n",
       "      <td>Altoona Mountain City</td>\n",
       "      <td>curtied99m</td>\n",
       "      <td>1884</td>\n",
       "      <td>6</td>\n",
       "      <td>19</td>\n",
       "    </tr>\n",
       "    <tr>\n",
       "      <th>2735</th>\n",
       "      <td>Anaheim Angels</td>\n",
       "      <td>collite99m</td>\n",
       "      <td>1997</td>\n",
       "      <td>84</td>\n",
       "      <td>78</td>\n",
       "    </tr>\n",
       "    <tr>\n",
       "      <th>2766</th>\n",
       "      <td>Anaheim Angels</td>\n",
       "      <td>collite99m</td>\n",
       "      <td>1998</td>\n",
       "      <td>85</td>\n",
       "      <td>77</td>\n",
       "    </tr>\n",
       "    <tr>\n",
       "      <th>2798</th>\n",
       "      <td>Anaheim Angels</td>\n",
       "      <td>collite99m</td>\n",
       "      <td>1999</td>\n",
       "      <td>51</td>\n",
       "      <td>82</td>\n",
       "    </tr>\n",
       "    <tr>\n",
       "      <th>2799</th>\n",
       "      <td>Anaheim Angels</td>\n",
       "      <td>maddojo99m</td>\n",
       "      <td>1999</td>\n",
       "      <td>19</td>\n",
       "      <td>10</td>\n",
       "    </tr>\n",
       "    <tr>\n",
       "      <th>...</th>\n",
       "      <td>...</td>\n",
       "      <td>...</td>\n",
       "      <td>...</td>\n",
       "      <td>...</td>\n",
       "      <td>...</td>\n",
       "    </tr>\n",
       "    <tr>\n",
       "      <th>494</th>\n",
       "      <td>Washington Senators</td>\n",
       "      <td>doyleja01m</td>\n",
       "      <td>1898</td>\n",
       "      <td>8</td>\n",
       "      <td>9</td>\n",
       "    </tr>\n",
       "    <tr>\n",
       "      <th>495</th>\n",
       "      <td>Washington Senators</td>\n",
       "      <td>irwinar01m</td>\n",
       "      <td>1898</td>\n",
       "      <td>10</td>\n",
       "      <td>19</td>\n",
       "    </tr>\n",
       "    <tr>\n",
       "      <th>496</th>\n",
       "      <td>Washington Senators</td>\n",
       "      <td>mcguide01m</td>\n",
       "      <td>1898</td>\n",
       "      <td>21</td>\n",
       "      <td>47</td>\n",
       "    </tr>\n",
       "    <tr>\n",
       "      <th>511</th>\n",
       "      <td>Washington Senators</td>\n",
       "      <td>irwinar01m</td>\n",
       "      <td>1899</td>\n",
       "      <td>54</td>\n",
       "      <td>98</td>\n",
       "    </tr>\n",
       "    <tr>\n",
       "      <th>209</th>\n",
       "      <td>Washington Nationals</td>\n",
       "      <td>scanlmi99m</td>\n",
       "      <td>1884</td>\n",
       "      <td>47</td>\n",
       "      <td>65</td>\n",
       "    </tr>\n",
       "  </tbody>\n",
       "</table>\n",
       "<p>3242 rows × 5 columns</p>\n",
       "</div>"
      ],
      "text/plain": [
       "                       name   managerID  yearID   W   L\n",
       "192   Altoona Mountain City  curtied99m    1884   6  19\n",
       "2735         Anaheim Angels  collite99m    1997  84  78\n",
       "2766         Anaheim Angels  collite99m    1998  85  77\n",
       "2798         Anaheim Angels  collite99m    1999  51  82\n",
       "2799         Anaheim Angels  maddojo99m    1999  19  10\n",
       "...                     ...         ...     ...  ..  ..\n",
       "494     Washington Senators  doyleja01m    1898   8   9\n",
       "495     Washington Senators  irwinar01m    1898  10  19\n",
       "496     Washington Senators  mcguide01m    1898  21  47\n",
       "511     Washington Senators  irwinar01m    1899  54  98\n",
       "209    Washington Nationals  scanlmi99m    1884  47  65\n",
       "\n",
       "[3242 rows x 5 columns]"
      ]
     },
     "execution_count": 90,
     "metadata": {},
     "output_type": "execute_result"
    }
   ],
   "source": [
    "%run go_sports.py\n",
    "# Here the correct arguments should be added\n",
    "go_sports(teams, managers)\n",
    "\n"
   ]
  },
  {
   "cell_type": "markdown",
   "id": "ead0d563",
   "metadata": {},
   "source": [
    "#### 20) Create the **`go_manager`** function, which takes two Pandas DataFrames as input: the teams DataFrame and the manager DataFrame. This function first calls the `go_sports` function with managers and teams input and then saves the result in a variable called sports. Then, this function **returns the ID (`managerID`) as a correct string of the manager who has most wins (`W`) over their careers.**\n"
   ]
  },
  {
   "cell_type": "code",
   "execution_count": null,
   "id": "5ed568e5",
   "metadata": {},
   "outputs": [
    {
     "name": "stdout",
     "output_type": "stream",
     "text": [
      "Overwriting go_manager.py\n"
     ]
    }
   ],
   "source": [
    "%%writefile go_manager.py\n",
    "import pandas as pd\n",
    "from go_sports import go_sports\n",
    "\n",
    "def go_manager(teams, managers) -> str:\n",
    "   \"\"\"Returns the managerID of the manager with the most winds across his career according to the input dataframes.\"\"\"\n",
    "   # Step 1: Build the sports DataFrame\n",
    "   sports = go_sports(teams, managers)\n",
    "   sports[\"managerID\"] = sports[\"managerID\"].astype(str)\n",
    "\n",
    "   grouped_managers = sports.groupby(\"managerID\", as_index=False)\n",
    "   manager_wins = grouped_managers[\"W\"].sum()\n",
    "   best = manager_wins.sort_values(\"W\", ascending=False).iloc[0][\"managerID\"]\n",
    "\n",
    "   return best\n",
    "\n",
    "    "
   ]
  },
  {
   "cell_type": "markdown",
   "id": "968ce3bc",
   "metadata": {},
   "source": [
    "#### Call your `go_manager` function with the `managers` and `teams` DataFrames below to view the results:"
   ]
  },
  {
   "cell_type": "code",
   "execution_count": 92,
   "id": "7c877f03",
   "metadata": {},
   "outputs": [
    {
     "data": {
      "text/plain": [
       "'mackco01m'"
      ]
     },
     "execution_count": 92,
     "metadata": {},
     "output_type": "execute_result"
    }
   ],
   "source": [
    "%run go_manager.py\n",
    "# Here the correct arguments should be added\n",
    "go_manager(teams, managers)"
   ]
  },
  {
   "cell_type": "code",
   "execution_count": null,
   "id": "68821a04",
   "metadata": {},
   "outputs": [],
   "source": []
  }
 ],
 "metadata": {
  "kernelspec": {
   "display_name": ".venv",
   "language": "python",
   "name": "python3"
  },
  "language_info": {
   "codemirror_mode": {
    "name": "ipython",
    "version": 3
   },
   "file_extension": ".py",
   "mimetype": "text/x-python",
   "name": "python",
   "nbconvert_exporter": "python",
   "pygments_lexer": "ipython3",
   "version": "3.11.5"
  }
 },
 "nbformat": 4,
 "nbformat_minor": 5
}
